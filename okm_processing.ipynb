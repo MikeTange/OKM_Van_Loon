{
 "cells": [
  {
   "cell_type": "markdown",
   "id": "7ae4b4b9",
   "metadata": {},
   "source": [
    "# OKM Model #"
   ]
  },
  {
   "cell_type": "markdown",
   "id": "6b0bd7bc",
   "metadata": {},
   "source": [
    "## Set-up ##"
   ]
  },
  {
   "cell_type": "markdown",
   "id": "d4209afc",
   "metadata": {},
   "source": [
    "### Imports ###"
   ]
  },
  {
   "cell_type": "code",
   "execution_count": null,
   "id": "aa3e1467",
   "metadata": {},
   "outputs": [],
   "source": [
    "import pandas as pd\n",
    "import numpy as np"
   ]
  },
  {
   "cell_type": "markdown",
   "id": "209f3584",
   "metadata": {},
   "source": [
    "### Objects ###"
   ]
  },
  {
   "cell_type": "code",
   "execution_count": 83,
   "id": "c0d4eeb1",
   "metadata": {},
   "outputs": [],
   "source": [
    "class recipe:\n",
    "    \"\"\" a recipe \"\"\"\n",
    "\n",
    "    def __init__(self, name : str, id : str, data : pd.DataFrame) -> None:\n",
    "        \"\"\" initialise an instance of recipe\"\"\"\n",
    "        self.name = name\n",
    "        self.id = id\n",
    "        self.data = data\n",
    "\n",
    "    def __str__(self) -> str:\n",
    "        \"\"\" set the string representation of a recipe \"\"\"\n",
    "        return f'{self.id} {self.name}'"
   ]
  },
  {
   "cell_type": "markdown",
   "id": "f2be1efc",
   "metadata": {},
   "source": [
    "## Data preparation ##"
   ]
  },
  {
   "cell_type": "markdown",
   "id": "4aee06de",
   "metadata": {},
   "source": [
    "### Data loading ###"
   ]
  },
  {
   "cell_type": "markdown",
   "id": "13d44669",
   "metadata": {},
   "source": [
    "#### BOM ####\n"
   ]
  },
  {
   "cell_type": "code",
   "execution_count": 84,
   "id": "ca645ffd",
   "metadata": {},
   "outputs": [],
   "source": [
    "bom_data_raw = pd.read_excel(\"250416 Recepten download NAV 16-4.xlsx\", skiprows=1, header=None, decimal=\",\")"
   ]
  },
  {
   "cell_type": "markdown",
   "id": "3ed2ba66",
   "metadata": {},
   "source": [
    "#### Prices & weights ####"
   ]
  },
  {
   "cell_type": "code",
   "execution_count": 85,
   "id": "bd377622",
   "metadata": {},
   "outputs": [],
   "source": [
    "price_weight_data = pd.read_excel(\"Input Price List + Grammage.xlsx\", sheet_name=\"PriceList\", header=0).astype({'INGREDIENT CODE': 'string'})"
   ]
  },
  {
   "cell_type": "markdown",
   "id": "02738e79",
   "metadata": {},
   "source": [
    "#### Waste ####"
   ]
  },
  {
   "cell_type": "code",
   "execution_count": 86,
   "id": "73d1a1dd",
   "metadata": {},
   "outputs": [],
   "source": [
    "waste_data = pd.read_excel(\"Input Waste Table.xlsx\", sheet_name='WASTE', header=0).astype({'MEAL CODE': \"string\", 'INGREDIENT CODE': 'string'})"
   ]
  },
  {
   "cell_type": "markdown",
   "id": "d994ea1e",
   "metadata": {},
   "source": [
    "##### Add unique id column #####"
   ]
  },
  {
   "cell_type": "code",
   "execution_count": 87,
   "id": "b98828d7",
   "metadata": {},
   "outputs": [],
   "source": [
    "waste_data['id'] = waste_data[['MEAL CODE', 'INGREDIENT CODE']].agg('_'.join, axis=1).astype('string')"
   ]
  },
  {
   "cell_type": "markdown",
   "id": "520d02e3",
   "metadata": {},
   "source": [
    "#### Product master ####"
   ]
  },
  {
   "cell_type": "code",
   "execution_count": 88,
   "id": "eeb299e8",
   "metadata": {},
   "outputs": [],
   "source": [
    "product_data = pd.read_excel(\"Input Productmaster.xlsx\", sheet_name='Product')"
   ]
  },
  {
   "cell_type": "markdown",
   "id": "426b5f4d",
   "metadata": {},
   "source": [
    "##### Active recipes #####"
   ]
  },
  {
   "cell_type": "code",
   "execution_count": 89,
   "id": "3627d811",
   "metadata": {},
   "outputs": [],
   "source": [
    "active_rec_data = pd.read_excel(\"Input Productmaster.xlsx\", sheet_name='Actief')"
   ]
  },
  {
   "cell_type": "code",
   "execution_count": 90,
   "id": "258ac23f",
   "metadata": {},
   "outputs": [],
   "source": [
    "active_recipes = [str(x) for x in active_rec_data[active_rec_data['Actief'] == 'Ja']['Artikel']]"
   ]
  },
  {
   "cell_type": "markdown",
   "id": "a18a5077",
   "metadata": {},
   "source": [
    "##### Split product data by categorie #####\n",
    "Store the ids ('hf_nr') in NumPy arrays for easy and fast checking against later."
   ]
  },
  {
   "cell_type": "code",
   "execution_count": 91,
   "id": "e6092976",
   "metadata": {},
   "outputs": [],
   "source": [
    "product_data_ingredient = np.array(product_data[product_data['Categorie'] == 'Ingredient']['Nummer'])\n",
    "product_data_packaging = np.array(product_data[product_data['Categorie'] == 'Verpakking']['Nummer'])\n",
    "product_data_HF = np.array(product_data[product_data['Categorie'] == 'Halffabrikaat']['Nummer'])\n",
    "product_data_gas = np.array(product_data[product_data['Categorie'] == 'Gas']['Nummer'])"
   ]
  },
  {
   "cell_type": "markdown",
   "id": "77671d4f",
   "metadata": {},
   "source": [
    "### Data cleaning ###"
   ]
  },
  {
   "cell_type": "markdown",
   "id": "7ec716b9",
   "metadata": {},
   "source": [
    "#### BOM ####"
   ]
  },
  {
   "cell_type": "markdown",
   "id": "c1475201",
   "metadata": {},
   "source": [
    "##### Split data into recipes #####"
   ]
  },
  {
   "cell_type": "code",
   "execution_count": 92,
   "id": "5676ede3",
   "metadata": {},
   "outputs": [],
   "source": [
    "recipes = []\n",
    "\n",
    "for i in range(len(bom_data_raw)):\n",
    "    # a new recipe starts\n",
    "    if bom_data_raw[4][i] == 'Omschrijving':\n",
    "        start_idx = i + 1\n",
    "        recipe_name = bom_data_raw[4][i + 1]\n",
    "        recipe_id = bom_data_raw[3][i + 1]\n",
    "\n",
    "        # the recipe ends\n",
    "        for j in range(i, len(bom_data_raw)):\n",
    "            if bom_data_raw[3][j] == 'Kostenaandeel voor dit artikel':\n",
    "                end_idx = j\n",
    "                recipe_data = bom_data_raw.iloc[(i + 2):j].drop(range(8, 13), axis='columns').reset_index()\n",
    "                recipe_data = recipe_data.rename(columns={0: \"id_nr\", 1: \"nr\", 2: \"Niveau\", 3: \"hf_nr\", 4: \"Omschrijving\", 5: \"Aantal (Basis)\", 6: \"Basiseenheid\", 7: \"Materiaalkosten\"})\n",
    "                recipe_data = recipe_data.astype({\"id_nr\": str, \"nr\": int, \"Niveau\": int, \"hf_nr\": str, \"Omschrijving\": str, \"Aantal (Basis)\": float, \"Basiseenheid\": str, \"Materiaalkosten\": float})\n",
    "                recipe_data.insert(loc=2, column=\"Product Naam\", value=[recipe_name for i in range(len(recipe_data))])\n",
    "                recipes.append(recipe(name=recipe_name, id=recipe_id, data=recipe_data))\n",
    "                i += j\n",
    "                break"
   ]
  },
  {
   "cell_type": "markdown",
   "id": "f0292801",
   "metadata": {},
   "source": [
    "##### Drop inactive recipes #####\n",
    "Keep this separate for now in case it has to be removed later."
   ]
  },
  {
   "cell_type": "code",
   "execution_count": 93,
   "id": "20718779",
   "metadata": {},
   "outputs": [],
   "source": [
    "recipes_temp = []\n",
    "for recipe in recipes:\n",
    "    if str(recipe.id) in active_recipes:\n",
    "        recipes_temp.append(recipe)\n",
    "\n",
    "recipes = recipes_temp"
   ]
  },
  {
   "cell_type": "markdown",
   "id": "6ad2a48e",
   "metadata": {},
   "source": [
    "## Modeling ##"
   ]
  },
  {
   "cell_type": "markdown",
   "id": "acc49a99",
   "metadata": {},
   "source": [
    "### Add categories ###"
   ]
  },
  {
   "cell_type": "code",
   "execution_count": 94,
   "id": "3d667761",
   "metadata": {},
   "outputs": [],
   "source": [
    "for recipe in recipes:\n",
    "    categories = []\n",
    "\n",
    "    for i in range(len(recipe.data)):\n",
    "        item_id = recipe.data['hf_nr'][i]\n",
    "\n",
    "        if item_id in product_data_ingredient:\n",
    "            categories.append('Ingredient')\n",
    "\n",
    "        elif item_id in product_data_HF:\n",
    "            categories.append('Halffabrikaat')\n",
    "\n",
    "        elif item_id in product_data_packaging:\n",
    "            categories.append('Verpakking')\n",
    "        \n",
    "        elif item_id in product_data_gas:\n",
    "            categories.append('Gas')\n",
    "        \n",
    "        else:\n",
    "            categories.append('Ongeclassificeerd')\n",
    "    \n",
    "    recipe.data['Categorie'] = categories"
   ]
  },
  {
   "cell_type": "markdown",
   "id": "619eeed5",
   "metadata": {},
   "source": [
    "### New prices ###\n",
    "From price list for ingredients & gas; 0 for packaging; and empty for HFs."
   ]
  },
  {
   "cell_type": "code",
   "execution_count": 95,
   "id": "286b2317",
   "metadata": {},
   "outputs": [],
   "source": [
    "for recipe in recipes:\n",
    "    new_prices = []\n",
    "\n",
    "    for i in range(len(recipe.data)):\n",
    "        item_id = recipe.data['hf_nr'][i]\n",
    "\n",
    "        if (item_id in product_data_ingredient) or (item_id in product_data_gas): # ingredients & gas\n",
    "            subset_price_df = price_weight_data[price_weight_data['INGREDIENT CODE'] == item_id]\n",
    "            new_price = subset_price_df['PRICE Q2'].iloc[0]\n",
    "        \n",
    "        elif item_id in product_data_packaging: # packaging\n",
    "            new_price = 0\n",
    "\n",
    "        elif item_id in product_data_HF: # HFs\n",
    "            new_price = None\n",
    "        \n",
    "        else: # unclassified\n",
    "            new_price = 'Geen nieuwe prijs'\n",
    "    \n",
    "        new_prices.append(new_price)\n",
    "        \n",
    "    recipe.data['Nieuwe prijs'] = new_prices"
   ]
  },
  {
   "cell_type": "markdown",
   "id": "94746a70",
   "metadata": {},
   "source": [
    "### Old prices ###\n",
    "Old costs / old quantity for ingredients & gas; 0 for packaging; and empty for HFs."
   ]
  },
  {
   "cell_type": "code",
   "execution_count": 96,
   "id": "bbdf3c75",
   "metadata": {},
   "outputs": [
    {
     "name": "stderr",
     "output_type": "stream",
     "text": [
      "C:\\Users\\michi\\AppData\\Local\\Temp\\ipykernel_19312\\1923004048.py:8: RuntimeWarning: invalid value encountered in scalar divide\n",
      "  old_price = recipe.data['Materiaalkosten'][i] / recipe.data['Aantal (Basis)'][i]\n"
     ]
    }
   ],
   "source": [
    "for recipe in recipes:\n",
    "    old_prices = []\n",
    "\n",
    "    for i in range(len(recipe.data)):\n",
    "        item_id = recipe.data['hf_nr'][i]\n",
    "\n",
    "        if (item_id in product_data_ingredient) or (item_id in product_data_gas): # ingredients & gas\n",
    "            old_price = recipe.data['Materiaalkosten'][i] / recipe.data['Aantal (Basis)'][i]\n",
    "        \n",
    "        elif item_id in product_data_packaging: # packaging\n",
    "            old_price = 0\n",
    "\n",
    "        elif item_id in product_data_HF: # HFs\n",
    "            old_price = None\n",
    "\n",
    "        else: # unclassified\n",
    "            old_price = recipe.data['Materiaalkosten'][i] / recipe.data['Aantal (Basis)'][i]\n",
    "    \n",
    "        old_prices.append(old_price)\n",
    "        \n",
    "    recipe.data['Oude prijs'] = old_prices"
   ]
  },
  {
   "cell_type": "markdown",
   "id": "ac561e9b",
   "metadata": {},
   "source": [
    "### Weight in kg ###\n",
    "Convert items not in kg. Items already in kg stay the same. Packaging goes to 0, regardless of the unit."
   ]
  },
  {
   "cell_type": "code",
   "execution_count": 97,
   "id": "0d10404d",
   "metadata": {},
   "outputs": [],
   "source": [
    "for recipe in recipes:\n",
    "    weights = []\n",
    "\n",
    "    for i in range(len(recipe.data)):\n",
    "        item_id = recipe.data['hf_nr'][i]\n",
    "\n",
    "        if item_id in product_data_packaging: # packaging to 0\n",
    "            weight = 0.0\n",
    "\n",
    "        elif not recipe.data['Basiseenheid'][i] == 'KG':\n",
    "\n",
    "            subset_weight_data = price_weight_data[price_weight_data['INGREDIENT CODE'] == item_id]\n",
    "\n",
    "            if len(subset_weight_data) == 0: # no info about this item\n",
    "                weight = 'Geen conversie info'\n",
    "            \n",
    "            elif len(subset_weight_data) == 1: # new info about this item\n",
    "                weight = subset_weight_data['KG'].iloc[0] * recipe.data['Aantal (Basis)'][i]\n",
    "\n",
    "            else:\n",
    "                weight = 'Dubbele conversie info'\n",
    "        \n",
    "        else:\n",
    "            weight = recipe.data['Aantal (Basis)'][i]\n",
    "\n",
    "        weights.append(weight)\n",
    "\n",
    "    recipe.data['Grammage'] = weights"
   ]
  },
  {
   "cell_type": "markdown",
   "id": "13cfcc3d",
   "metadata": {},
   "source": [
    "### Waste ###\n",
    "For items at level 1: find the waste in the waste data. For all other items, find the parent item at level 1, and take the waste from there."
   ]
  },
  {
   "cell_type": "code",
   "execution_count": 98,
   "id": "04c0f8a2",
   "metadata": {},
   "outputs": [],
   "source": [
    "for recipe in recipes:\n",
    "    waste_nav_col = []\n",
    "    waste_fin_col = []\n",
    "    waste_use_col = []\n",
    "\n",
    "    for i in range(len(recipe.data)):\n",
    "        item_id = recipe.data['hf_nr'][i]\n",
    "\n",
    "        if recipe.data['Niveau'][i] == 1: # waste is only determined at level 1\n",
    "            subset_waste_data = waste_data[waste_data['id'] == f'{recipe.id}_{item_id}']\n",
    "\n",
    "            if len(subset_waste_data) == 0:\n",
    "                # waste_nav = 'Geen waste info'\n",
    "                # waste_fin = 'Geen waste info'\n",
    "                # waste_use = 'Geen waste info'\n",
    "\n",
    "                waste_nav = 0\n",
    "                waste_fin = 0\n",
    "                waste_use = 0\n",
    "\n",
    "            elif len(subset_waste_data) == 1:\n",
    "                waste_nav = subset_waste_data['WASTE-NAV'].iloc[0]\n",
    "                waste_fin = subset_waste_data['WASTE-FIN'].iloc[0]\n",
    "                waste_use = subset_waste_data['WASTE-USE'].iloc[0]\n",
    "\n",
    "            else:\n",
    "                waste_nav = 'Dubbele waste info'\n",
    "                waste_fin = 'Dubbele waste info'\n",
    "                waste_use = 'Dubbele waste info'\n",
    "        \n",
    "        else:\n",
    "            for j in range(i, -1, -1): # loop backwards to find the closest level 1 item\n",
    "                if recipe.data['Niveau'].iloc[j] == 1:\n",
    "\n",
    "                    if recipe.data['hf_nr'].iloc[j] in product_data_HF:\n",
    "                        parent_hf_id = recipe.data[\"hf_nr\"].iloc[j]\n",
    "                        subset_waste_data_parent = waste_data[waste_data['id'] == f'{recipe.id}_{parent_hf_id}']\n",
    "\n",
    "                        if len(subset_waste_data_parent) == 0:\n",
    "                            # waste_nav = 'Geen waste info'\n",
    "                            # waste_fin = 'Geen waste info'\n",
    "                            # waste_use = 'Geen waste info'\n",
    "\n",
    "                            waste_nav = 0\n",
    "                            waste_fin = 0\n",
    "                            waste_use = 0\n",
    "\n",
    "                        elif len(subset_waste_data_parent) == 1:\n",
    "                            waste_nav = subset_waste_data_parent['WASTE-NAV'].iloc[0]\n",
    "                            waste_fin = subset_waste_data_parent['WASTE-FIN'].iloc[0]\n",
    "                            waste_use = subset_waste_data_parent['WASTE-USE'].iloc[0]\n",
    "\n",
    "                        else:\n",
    "                            waste_nav = 'Dubbele waste info'\n",
    "                            waste_fin = 'Dubbele waste info'\n",
    "                            waste_use = 'Dubbele waste info'\n",
    "\n",
    "                    else:\n",
    "                        waste_nav = 'Geen bijbehorend HF'\n",
    "                        waste_fin = 'Geen bijbehorend HF'\n",
    "                        waste_use = 'Geen bijbehorend HF'\n",
    "                    \n",
    "                    break\n",
    "\n",
    "        waste_nav_col.append(waste_nav)\n",
    "        waste_fin_col.append(waste_fin)\n",
    "        waste_use_col.append(waste_use)\n",
    "\n",
    "    recipe.data['Waste NAV'] = waste_nav_col\n",
    "    recipe.data['Waste FIN'] = waste_fin_col\n",
    "    recipe.data['Waste USE'] = waste_use_col"
   ]
  },
  {
   "cell_type": "markdown",
   "id": "26bf0f2f",
   "metadata": {},
   "source": [
    "### Quantities ###\n",
    "Calculate the quantities based on the known waste data."
   ]
  },
  {
   "cell_type": "code",
   "execution_count": 99,
   "id": "6635ee57",
   "metadata": {},
   "outputs": [],
   "source": [
    "for recipe in recipes:\n",
    "    q_no_waste_col = []\n",
    "    q_new_col = []\n",
    "\n",
    "    for i in range(len(recipe.data)):\n",
    "        \n",
    "        try:\n",
    "            q_no_waste = recipe.data['Aantal (Basis)'][i] / (1 + recipe.data['Waste NAV'][i])\n",
    "        except TypeError:\n",
    "            q_no_waste = 'Kan niet berekenen'\n",
    "\n",
    "        try:\n",
    "            q_new = q_no_waste * (1 + recipe.data['Waste USE'][i])\n",
    "        except TypeError:\n",
    "            q_new = 'Kan niet berekenen'\n",
    "\n",
    "        q_no_waste_col.append(q_no_waste)\n",
    "        q_new_col.append(q_new)\n",
    "\n",
    "    recipe.data['Aantal (zonder waste)'] = q_no_waste_col\n",
    "    recipe.data['Aantal (nieuw)'] = q_new_col"
   ]
  },
  {
   "cell_type": "markdown",
   "id": "0bad4d9d",
   "metadata": {},
   "source": [
    "### Costs ###\n",
    "Several costs are calculated: \n",
    "- new p * old q (\"vvp\")\n",
    "- new p * new q (\"materiaalkosten\")\n",
    "\n",
    "Costs are first calculated for the non-HF items, based on row-level info. Afterwards the HF item costs are calculated and inserted based on hierarchical info."
   ]
  },
  {
   "cell_type": "markdown",
   "id": "f6448696",
   "metadata": {},
   "source": [
    "#### Non-HF costs ####"
   ]
  },
  {
   "cell_type": "code",
   "execution_count": 100,
   "id": "473088b6",
   "metadata": {},
   "outputs": [],
   "source": [
    "for recipe in recipes:\n",
    "    newp_oldq_col = []\n",
    "    newp_newq_col = []\n",
    "\n",
    "    for i in range(len(recipe.data)):\n",
    "        item_id = recipe.data['hf_nr'][i]\n",
    "\n",
    "        if (item_id in product_data_ingredient) or (item_id in product_data_packaging) or (item_id in product_data_gas):\n",
    "            try:\n",
    "                newp_oldq = recipe.data['Nieuwe prijs'][i] * recipe.data['Aantal (Basis)'][i]\n",
    "                newp_newq = recipe.data['Nieuwe prijs'][i] * recipe.data['Aantal (nieuw)'][i]\n",
    "            \n",
    "            except TypeError: # could use the old price here as well\n",
    "                newp_oldq = 'Kan niet berekenen'\n",
    "                newp_newq = 'Kan niet berekenen'\n",
    "        \n",
    "        elif item_id in product_data_HF:\n",
    "            newp_oldq = None\n",
    "            newp_newq = None\n",
    "        \n",
    "        else:\n",
    "            newp_oldq = 'Ongeclassificeerd item'\n",
    "            newp_newq = 'Ongeclassificeerd item'\n",
    "\n",
    "        newp_oldq_col.append(newp_oldq)\n",
    "        newp_newq_col.append(newp_newq)\n",
    "\n",
    "    recipe.data['Nieuwe vvp'] = newp_oldq_col\n",
    "    recipe.data['Materiaalkosten (nieuw)'] = newp_newq_col"
   ]
  },
  {
   "cell_type": "markdown",
   "id": "d7b80692",
   "metadata": {},
   "source": [
    "#### HF costs ####\n",
    "For an HF the costs are determined based on the costs of the individual ingredients which make up the HF."
   ]
  },
  {
   "cell_type": "code",
   "execution_count": 101,
   "id": "b427a69d",
   "metadata": {},
   "outputs": [],
   "source": [
    "for recipe in recipes:\n",
    "    for i in range(len(recipe.data)):\n",
    "        item_id = recipe.data['hf_nr'][i]\n",
    "\n",
    "        if item_id in product_data_HF:\n",
    "\n",
    "            hf_newp_oldq = 0.0\n",
    "            hf_newp_newq = 0.0\n",
    "            hf_oldp_oldq = 0.0\n",
    "\n",
    "            hf_level = recipe.data['Niveau'][i]\n",
    "            for j in range(i + 1, len(recipe.data)):\n",
    "                if recipe.data['Niveau'][j] > hf_level:\n",
    "\n",
    "                    try:\n",
    "                        if not np.isnan(recipe.data['Nieuwe vvp'][j]):\n",
    "                            hf_newp_oldq += recipe.data['Nieuwe vvp'][j]\n",
    "                    except:\n",
    "                        pass\n",
    "                    \n",
    "                    try:\n",
    "                        if not np.isnan(recipe.data['Materiaalkosten (nieuw)'][j]):\n",
    "                            hf_newp_newq += recipe.data['Materiaalkosten (nieuw)'][j]\n",
    "                    except:\n",
    "                        pass\n",
    "                    \n",
    "                    try:\n",
    "                        if not np.isnan(recipe.data['Materiaalkosten'][j]):\n",
    "                            if not recipe.data['hf_nr'][j] in product_data_HF:\n",
    "                                hf_oldp_oldq += recipe.data['Materiaalkosten'][j]\n",
    "                    except:\n",
    "                        pass\n",
    "                    \n",
    "                else:\n",
    "                    break\n",
    "        \n",
    "            recipe.data.at[i, 'Nieuwe vvp'] = hf_newp_oldq\n",
    "            recipe.data.at[i, 'Materiaalkosten (nieuw)'] = hf_newp_newq\n",
    "            recipe.data.at[i, 'Materiaalkosten HF (berekend)'] = hf_oldp_oldq"
   ]
  },
  {
   "cell_type": "markdown",
   "id": "6fc5f759",
   "metadata": {},
   "source": [
    "### Deltas ###"
   ]
  },
  {
   "cell_type": "code",
   "execution_count": 102,
   "id": "32e5e9ce",
   "metadata": {},
   "outputs": [],
   "source": [
    "for recipe in recipes:\n",
    "    delta_q_col = []\n",
    "    delta_p_col = []\n",
    "    delta_cost_col = []\n",
    "    fin_waste_impact_col = []\n",
    "\n",
    "    for i in range(len(recipe.data)):\n",
    "\n",
    "        try:\n",
    "            delta_q = (recipe.data['Aantal (nieuw)'][i] - recipe.data['Aantal (Basis)'][i]) * recipe.data['Oude prijs'][i]\n",
    "            delta_p = (recipe.data['Nieuwe prijs'][i] - recipe.data['Oude prijs'][i]) * recipe.data['Aantal (nieuw)'][i]\n",
    "            delta_cost = recipe.data['Materiaalkosten (nieuw)'][i] - recipe.data['Materiaalkosten'][i]\n",
    "            fin_waste_impact = recipe.data['Materiaalkosten (nieuw)'][i] - recipe.data['Nieuwe vvp'][i]\n",
    "\n",
    "        except TypeError:\n",
    "            delta_q = 'Kan niet berekenen'\n",
    "            delta_p = 'Kan niet berekenen'\n",
    "            delta_cost = 'Kan niet berekenen'\n",
    "            fin_waste_impact = 'Kan niet berekenen'\n",
    "\n",
    "        delta_q_col.append(delta_q)\n",
    "        delta_p_col.append(delta_p)\n",
    "        delta_cost_col.append(delta_cost)\n",
    "        fin_waste_impact_col.append(fin_waste_impact)\n",
    "    \n",
    "    recipe.data['Delta Q'] = delta_q_col\n",
    "    recipe.data['Delta prijs'] = delta_p_col\n",
    "    recipe.data['Delta materiaalkosten'] = delta_cost_col\n",
    "    recipe.data['Delta FIN waste'] = fin_waste_impact_col"
   ]
  },
  {
   "cell_type": "markdown",
   "id": "1ddc9fd5",
   "metadata": {},
   "source": [
    "## Output Excel file ##"
   ]
  },
  {
   "cell_type": "markdown",
   "id": "a13be09f",
   "metadata": {},
   "source": [
    "### BOM ###"
   ]
  },
  {
   "cell_type": "code",
   "execution_count": 103,
   "id": "8d566442",
   "metadata": {},
   "outputs": [],
   "source": [
    "frames = []\n",
    "for recipe in recipes:\n",
    "    frames.append(recipe.data)\n",
    "\n",
    "BOM_df = pd.concat(frames)"
   ]
  },
  {
   "cell_type": "markdown",
   "id": "6063cf42",
   "metadata": {},
   "source": [
    "### Excel file formatting ###\n",
    "Change column order and names. Drop a few columns."
   ]
  },
  {
   "cell_type": "code",
   "execution_count": 104,
   "id": "269170dc",
   "metadata": {},
   "outputs": [],
   "source": [
    "# Reorder and drop columns\n",
    "BOM_df = BOM_df[['index', 'id_nr', 'Product Naam', 'nr', 'Niveau', 'hf_nr', 'Omschrijving', 'Aantal (Basis)', 'Basiseenheid', 'Materiaalkosten', 'Categorie', 'Nieuwe prijs', 'Oude prijs',\n",
    "                 'Nieuwe vvp', 'Waste NAV', 'Waste FIN', 'Waste USE', 'Aantal (zonder waste)', 'Aantal (nieuw)', 'Materiaalkosten (nieuw)', 'Delta materiaalkosten', 'Delta Q', \n",
    "                 'Delta prijs', 'Delta FIN waste', 'Grammage']]\n",
    "\n",
    "# Rename columns\n",
    "BOM_df = BOM_df.rename(columns={\"index\": \"Index\",\n",
    "                                'id_nr': 'Meal ID',\n",
    "                                'Product Naam': 'Meal Name',\n",
    "                                'nr': 'Volgnummer',\n",
    "                                'Niveau': 'Level',\n",
    "                                'hf_nr': 'Ingredient ID',\n",
    "                                'Omschrijving': 'Ingredient Name',\n",
    "                                'Aantal (Basis)': 'Aantal (Basis) (#)',\n",
    "                                'Basiseenheid': 'Eenheid (€ / KG-Stuk-Liter-Mtr)',\n",
    "                                'Materiaalkosten': 'Materiaalkosten 1.0 (P BOM + Q BOM) (€)',\n",
    "                                'Categorie': 'Categorie Master',\n",
    "                                'Nieuwe prijs': 'Ingredientprijs p.e. (Actueel) (€)',\n",
    "                                'Oude prijs': 'Ingredientprijs p.e. (BOM - Berekend) (€)',\n",
    "                                'Nieuwe vvp': 'Materiaalkosten 2.0 (P actueel) (€)',\n",
    "                                'Waste NAV': 'Uitval NAV (%)',\n",
    "                                'Waste FIN': 'Uitval FIN (%)',\n",
    "                                'Waste USE': 'Uitval USE (%)',\n",
    "                                'Aantal (zonder waste)': 'Aantal uitval EXL (#)',\n",
    "                                'Aantal (nieuw)': 'Aantal uitval USE (#)',\n",
    "                                'Materiaalkosten (nieuw)': 'Materiaalkosten 3.0 (P actueel + Q Waste update) (€)',\n",
    "                                'Delta materiaalkosten': 'Materiaalkosten (Delta 3.0 vs 1.0) (€)',\n",
    "                                'Delta Q': 'Materiaalkosten (Q-effect 3.0 vs 1.0) (€)',\n",
    "                                'Delta prijs': 'Materiaalkosten (P-effect 3.0 vs 1.0) (€)',\n",
    "                                'Delta FIN waste': 'FIN Waste Impact Waste Update (Delta 3.0 vs 2.0) (€)',\n",
    "                                'Grammage': 'Gewicht (kg)'\n",
    "                                })"
   ]
  },
  {
   "cell_type": "markdown",
   "id": "c82dd870",
   "metadata": {},
   "source": [
    "### Save to Excel ###"
   ]
  },
  {
   "cell_type": "code",
   "execution_count": 87,
   "id": "8e097b36",
   "metadata": {},
   "outputs": [],
   "source": [
    "with pd.ExcelWriter(\"Output v6 - Q2.xlsx\") as writer:\n",
    "    BOM_df.to_excel(writer, sheet_name=\"BOM\")"
   ]
  }
 ],
 "metadata": {
  "kernelspec": {
   "display_name": "okm-van-loon",
   "language": "python",
   "name": "python3"
  },
  "language_info": {
   "codemirror_mode": {
    "name": "ipython",
    "version": 3
   },
   "file_extension": ".py",
   "mimetype": "text/x-python",
   "name": "python",
   "nbconvert_exporter": "python",
   "pygments_lexer": "ipython3",
   "version": "3.12.9"
  }
 },
 "nbformat": 4,
 "nbformat_minor": 5
}
