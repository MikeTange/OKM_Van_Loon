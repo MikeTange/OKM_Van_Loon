{
 "cells": [
  {
   "cell_type": "markdown",
   "metadata": {},
   "source": [
    "# OKM Van Loon #\n",
    "\n",
    "This script reads in an Excel file containing a Bill of Material (BOM), and an Excel file containing prices per ingredient. It then combines these two to calculate the cost of the products. It then outputs these costs as an Excel file."
   ]
  },
  {
   "cell_type": "markdown",
   "metadata": {},
   "source": [
    "## Set-up ##"
   ]
  },
  {
   "cell_type": "markdown",
   "metadata": {},
   "source": [
    "### Imports ###"
   ]
  },
  {
   "cell_type": "code",
   "execution_count": 31,
   "metadata": {},
   "outputs": [],
   "source": [
    "import openpyxl\n",
    "import pandas as pd"
   ]
  },
  {
   "cell_type": "markdown",
   "metadata": {},
   "source": [
    "### Objects ###"
   ]
  },
  {
   "cell_type": "code",
   "execution_count": 32,
   "metadata": {},
   "outputs": [],
   "source": [
    "class recipe:\n",
    "    \"\"\" a recipe \"\"\"\n",
    "\n",
    "    def __init__(self, name : str, id : str, data : pd.DataFrame, cost: float=0.0, HFs: list=[]) -> None:\n",
    "        \"\"\" initialise an instance of recipe\"\"\"\n",
    "        self.name = name\n",
    "        self.id = id\n",
    "        self.data = data\n",
    "        self.cost = cost\n",
    "        self.HFs = HFs\n",
    "\n",
    "    def __str__(self) -> str:\n",
    "        \"\"\" set the string representation of a recipe \"\"\"\n",
    "        return f'{self.id} {self.name}'\n",
    "    \n",
    "class HF:\n",
    "    \"\"\" a HF (halffabricaat)\"\"\"\n",
    "\n",
    "    def __init__(self, name: str, id: str, cost: float, weight: float, waste: float, ingredients: pd.DataFrame) -> None:\n",
    "        \"\"\" initialise an instance of HF\"\"\"\n",
    "        self.name = name\n",
    "        self.id = id\n",
    "        self.cost = cost\n",
    "        self.weight = weight\n",
    "        self.waste = waste\n",
    "        self.ingredients = ingredients"
   ]
  },
  {
   "cell_type": "markdown",
   "metadata": {},
   "source": [
    "## Data preparation ##"
   ]
  },
  {
   "cell_type": "markdown",
   "metadata": {},
   "source": [
    "### Data loading ###"
   ]
  },
  {
   "cell_type": "markdown",
   "metadata": {},
   "source": [
    "#### BOM ####\n"
   ]
  },
  {
   "cell_type": "code",
   "execution_count": 33,
   "metadata": {},
   "outputs": [],
   "source": [
    "bom_data_raw = pd.read_excel(\"NAV Recepten Download.xlsx\", skiprows=1, header=None, decimal=\",\")"
   ]
  },
  {
   "cell_type": "markdown",
   "metadata": {},
   "source": [
    "#### Costs ####"
   ]
  },
  {
   "cell_type": "code",
   "execution_count": 34,
   "metadata": {},
   "outputs": [],
   "source": [
    "cost_data = pd.read_excel(\"NAV Recepten Download Extra.xlsx\", sheet_name=\"Prijslijst\", skiprows=2)"
   ]
  },
  {
   "cell_type": "markdown",
   "metadata": {},
   "source": [
    "#### Packaging ####"
   ]
  },
  {
   "cell_type": "code",
   "execution_count": 35,
   "metadata": {},
   "outputs": [],
   "source": [
    "packaging_data = pd.read_excel(\"NAV Recepten Download Extra.xlsx\", sheet_name=\"Verpakking\", skiprows=2, skipfooter=1)"
   ]
  },
  {
   "cell_type": "markdown",
   "metadata": {},
   "source": [
    "### Data cleaning ###"
   ]
  },
  {
   "cell_type": "markdown",
   "metadata": {},
   "source": [
    "#### BOM ####"
   ]
  },
  {
   "cell_type": "markdown",
   "metadata": {},
   "source": [
    "##### Split data into recipes #####"
   ]
  },
  {
   "cell_type": "code",
   "execution_count": 36,
   "metadata": {},
   "outputs": [],
   "source": [
    "recipes = []\n",
    "\n",
    "for i in range(len(bom_data_raw)):\n",
    "    # a new recipe starts\n",
    "    if bom_data_raw[4][i] == 'Omschrijving':\n",
    "        start_idx = i + 1\n",
    "        recipe_name = bom_data_raw[4][i + 1]\n",
    "        recipe_id = bom_data_raw[3][i + 1]\n",
    "\n",
    "        # the recipe ends\n",
    "        for j in range(i, len(bom_data_raw)):\n",
    "            if bom_data_raw[3][j] == 'Kostenaandeel voor dit artikel':\n",
    "                end_idx = j\n",
    "                recipe_data = bom_data_raw.iloc[(i + 2):j].drop(range(8, 13), axis='columns').reset_index()\n",
    "                recipe_data = recipe_data.rename(columns={0: \"id_nr\", 1: \"nr\", 2: \"Niveau\", 3: \"hf_nr\", 4: \"Omschrijving\", 5: \"Aantal (Basis)\", 6: \"Basiseenheid\", 7: \"Materiaalkosten\"})\n",
    "                recipe_data = recipe_data.astype({\"id_nr\": str, \"nr\": int, \"Niveau\": int, \"hf_nr\": str, \"Omschrijving\": str, \"Aantal (Basis)\": float, \"Basiseenheid\": str, \"Materiaalkosten\": float})\n",
    "                recipes.append(recipe(recipe_name, recipe_id, recipe_data))\n",
    "                i += j\n",
    "                break"
   ]
  },
  {
   "cell_type": "markdown",
   "metadata": {},
   "source": [
    "##### Split recipes into HFs #####"
   ]
  },
  {
   "cell_type": "code",
   "execution_count": 37,
   "metadata": {},
   "outputs": [],
   "source": [
    "for recipe in recipes:\n",
    "    HFs = []\n",
    "    for i in range(len(recipe.data)):\n",
    "        if recipe.data[\"hf_nr\"][i].startswith(\"HF\"):\n",
    "            HF_level = recipe.data[\"Niveau\"][i]\n",
    "            for j in range(i + 1, len(recipe.data)):\n",
    "                if not recipe.data[\"Niveau\"][j] <= HF_level:\n",
    "                    j += 1\n",
    "                else:\n",
    "                    break\n",
    "            HFs.append(HF(name=recipe.data[\"Omschrijving\"][i], id=recipe.data[\"hf_nr\"][i], cost=0.0, weight=0.0, waste=0.0, ingredients=recipe.data.iloc[i + 1 : j + 1 ]))"
   ]
  },
  {
   "cell_type": "markdown",
   "metadata": {},
   "source": [
    "## Cost calculations ##"
   ]
  },
  {
   "cell_type": "code",
   "execution_count": 38,
   "metadata": {},
   "outputs": [],
   "source": [
    "# TODO - create custom cost function"
   ]
  },
  {
   "cell_type": "code",
   "execution_count": 39,
   "metadata": {},
   "outputs": [],
   "source": [
    "for recipe in recipes:\n",
    "    recipe_cost = 0\n",
    "    for index, row1 in recipe.data.iterrows():\n",
    "        ingredient_nr = row1['hf_nr']\n",
    "        # filter HFs and packaging\n",
    "        if not ingredient_nr.startswith(\"HF\") and not (ingredient_nr.startswith(\"3\")):\n",
    "            for index, row2 in cost_data.iterrows():\n",
    "                if ingredient_nr == str(int(row2[\"Rijlabels\"])):\n",
    "                    recipe_cost += float(row2[\"Gemiddelde van Prijs per Ingredient\"]) * float(row1['Aantal (Basis)'])\n",
    "    recipe.cost = recipe_cost"
   ]
  },
  {
   "cell_type": "code",
   "execution_count": 40,
   "metadata": {},
   "outputs": [],
   "source": [
    "for HF in HFs:\n",
    "    HF_cost = 0\n",
    "    for index, row1 in HF.ingredients.iterrows():\n",
    "        ingredient_nr = row1['hf_nr']\n",
    "        # filter HFs and packaging\n",
    "        if not ingredient_nr.startswith(\"HF\") and not (ingredient_nr.startswith(\"3\")):\n",
    "            for index, row2 in cost_data.iterrows():\n",
    "                if ingredient_nr == str(int(row2[\"Rijlabels\"])):\n",
    "                    HF_cost += float(row2[\"Gemiddelde van Prijs per Ingredient\"]) * float(row1['Aantal (Basis)'])\n",
    "    HF.cost = HF_cost"
   ]
  },
  {
   "cell_type": "markdown",
   "metadata": {},
   "source": [
    "## Output Excel file ##"
   ]
  },
  {
   "cell_type": "markdown",
   "metadata": {},
   "source": [
    "### Recipes ###"
   ]
  },
  {
   "cell_type": "code",
   "execution_count": 43,
   "metadata": {},
   "outputs": [],
   "source": [
    "recipes_dict = {}\n",
    "\n",
    "i = 0\n",
    "for recipe in recipes:\n",
    "    recipes_dict[i] = [recipe.name, recipe.id, recipe.cost]\n",
    "    i += 1\n",
    "\n",
    "recipes_df = pd.DataFrame.from_dict(recipes_dict, orient='index', columns=['Product', 'id', 'Kostprijs (zonder verpakking) Q1'])"
   ]
  },
  {
   "cell_type": "markdown",
   "metadata": {},
   "source": [
    "### HFs ###"
   ]
  },
  {
   "cell_type": "code",
   "execution_count": 44,
   "metadata": {},
   "outputs": [],
   "source": [
    "HFs_dict = {}\n",
    "\n",
    "i = 0\n",
    "for HF in HFs:\n",
    "    HFs_dict[i] = [HF.name, HF.id, HF.weight, HF.waste, HF.cost]\n",
    "    i += 1\n",
    "\n",
    "HFs_df = pd.DataFrame.from_dict(HFs_dict, orient='index', columns=['Halffabricaat', 'id', 'Gewicht Q1', 'Waste Q1', 'Kostprijs (zonder verpakking) Q1'])"
   ]
  },
  {
   "cell_type": "markdown",
   "metadata": {},
   "source": [
    "### BOM ###"
   ]
  },
  {
   "cell_type": "code",
   "execution_count": 45,
   "metadata": {},
   "outputs": [],
   "source": [
    "frames = []\n",
    "for recipe in recipes:\n",
    "    frames.append(recipe.data)\n",
    "\n",
    "BOM_df = pd.concat(frames)"
   ]
  },
  {
   "cell_type": "markdown",
   "metadata": {},
   "source": [
    "### Save to Excel ###"
   ]
  },
  {
   "cell_type": "code",
   "execution_count": 47,
   "metadata": {},
   "outputs": [],
   "source": [
    "with pd.ExcelWriter(\"Output.xlsx\") as writer:\n",
    "    recipes_df.to_excel(writer, sheet_name=\"Producten\")\n",
    "    HFs_df.to_excel(writer, sheet_name=\"Halffabricaten\")\n",
    "    BOM_df.to_excel(writer, sheet_name=\"BOM\")"
   ]
  }
 ],
 "metadata": {
  "kernelspec": {
   "display_name": "okm-van-loon",
   "language": "python",
   "name": "python3"
  },
  "language_info": {
   "codemirror_mode": {
    "name": "ipython",
    "version": 3
   },
   "file_extension": ".py",
   "mimetype": "text/x-python",
   "name": "python",
   "nbconvert_exporter": "python",
   "pygments_lexer": "ipython3",
   "version": "3.12.9"
  }
 },
 "nbformat": 4,
 "nbformat_minor": 2
}
