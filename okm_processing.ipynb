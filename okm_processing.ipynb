{
 "cells": [
  {
   "cell_type": "markdown",
   "id": "7ae4b4b9",
   "metadata": {},
   "source": [
    "# OKM Model #"
   ]
  },
  {
   "cell_type": "markdown",
   "id": "6b0bd7bc",
   "metadata": {},
   "source": [
    "## Set-up ##"
   ]
  },
  {
   "cell_type": "markdown",
   "id": "d4209afc",
   "metadata": {},
   "source": [
    "### Imports ###"
   ]
  },
  {
   "cell_type": "code",
   "execution_count": 1,
   "id": "aa3e1467",
   "metadata": {},
   "outputs": [],
   "source": [
    "import pandas as pd\n",
    "import numpy as np\n",
    "import warnings\n",
    "# import openpyxl"
   ]
  },
  {
   "cell_type": "markdown",
   "id": "209f3584",
   "metadata": {},
   "source": [
    "### Objects & Functions ###"
   ]
  },
  {
   "cell_type": "markdown",
   "id": "b3e83ef5",
   "metadata": {},
   "source": [
    "#### Recipes ####"
   ]
  },
  {
   "cell_type": "code",
   "execution_count": 2,
   "id": "c0d4eeb1",
   "metadata": {},
   "outputs": [],
   "source": [
    "class recipe:\n",
    "    \"\"\" a recipe \"\"\"\n",
    "\n",
    "    def __init__(self, name : str, id : str, data : pd.DataFrame) -> None:\n",
    "        \"\"\" initialise an instance of recipe\"\"\"\n",
    "        self.name = name\n",
    "        self.id = id\n",
    "        self.data = data\n",
    "\n",
    "    def __str__(self) -> str:\n",
    "        \"\"\" set the string representation of a recipe \"\"\"\n",
    "        return f'{self.id} {self.name}'"
   ]
  },
  {
   "cell_type": "markdown",
   "id": "c76910f4",
   "metadata": {},
   "source": [
    "#### Data preparation ####"
   ]
  },
  {
   "cell_type": "code",
   "execution_count": 3,
   "id": "125a3eef",
   "metadata": {},
   "outputs": [],
   "source": [
    "def rename_nan_columns(df, prefix=\"col\"):\n",
    "    \"\"\"\n",
    "    Rename DataFrame columns whose header could not be inferred, and have 'NaN' as header\n",
    "\n",
    "    Parameters:\n",
    "    - df: pandas.DataFrame\n",
    "    - prefix: prefix to replace NaN column names with\n",
    "\n",
    "    Returns:\n",
    "    - DataFrame with renamed columns\n",
    "    \"\"\"\n",
    "    df = df.copy()\n",
    "    df.columns = [\n",
    "        f\"{prefix}{idx}\" if pd.isna(col) else col.strip()\n",
    "        for idx, col in enumerate(df.columns)]\n",
    "    return df\n",
    "\n",
    "\n",
    "def clean_dataframe(df, replace_empty_with_na=True):\n",
    "    \"\"\"\n",
    "    Cleans a DataFrame by:\n",
    "    - Stripping whitespace from string values\n",
    "    - Optionally replacing empty strings with pd.NA\n",
    "    - Converting column types using pandas' best-guess inference\n",
    "\n",
    "    Parameters:\n",
    "    - df: pandas.DataFrame\n",
    "    - replace_empty_with_na: bool, whether to treat empty strings as missing values\n",
    "\n",
    "    Returns:\n",
    "    - Cleaned and type-inferred DataFrame\n",
    "    \"\"\"\n",
    "    df = df.copy()\n",
    "\n",
    "    # Strip whitespace from strings & replace commas with periods as floating points\n",
    "    df = df.map(lambda x: x.replace(',', '.').strip() if isinstance(x, str) else x)\n",
    "\n",
    "    # Optionally replace empty strings with pd.NA for better type inference\n",
    "    if replace_empty_with_na:\n",
    "        df.replace(\"\", pd.NA, inplace=True)\n",
    "\n",
    "    # Infer column types\n",
    "    df = df.convert_dtypes()\n",
    "\n",
    "    return df"
   ]
  },
  {
   "cell_type": "markdown",
   "id": "f2be1efc",
   "metadata": {},
   "source": [
    "## Data preparation ##"
   ]
  },
  {
   "cell_type": "markdown",
   "id": "c7b7905b",
   "metadata": {},
   "source": [
    "### Input parameters ###"
   ]
  },
  {
   "cell_type": "code",
   "execution_count": 4,
   "id": "2f7531c9",
   "metadata": {},
   "outputs": [],
   "source": [
    "# BOM\n",
    "bom_name = \"250416 Recepten download NAV 16-4.xlsx\"\n",
    "bom_sheet_name = \"Budget\"\n",
    "\n",
    "# Prices & weights\n",
    "price_weight_name = \"Input Price List + Grammage.xlsx\"\n",
    "price_weight_sheet_name = \"PriceList\"\n",
    "\n",
    "# Waste\n",
    "waste_name = \"Input Waste Table.xlsx\"\n",
    "waste_sheet_name = 'WASTE'\n",
    "\n",
    "# Active recipes\n",
    "active_rec_name = \"Input Actieve Recepten Master.xlsx\"\n",
    "active_rec_sheet = \"Actief\""
   ]
  },
  {
   "cell_type": "markdown",
   "id": "1eac2db2",
   "metadata": {},
   "source": [
    "### Required columns ###\n",
    "Price and weight data"
   ]
  },
  {
   "cell_type": "code",
   "execution_count": 5,
   "id": "8710317b",
   "metadata": {},
   "outputs": [],
   "source": [
    "req_cols_price_weight = ['INGREDIENT CODE', 'INGREDIENTS', 'KG']"
   ]
  },
  {
   "cell_type": "markdown",
   "id": "1e2d066c",
   "metadata": {},
   "source": [
    "Waste data"
   ]
  },
  {
   "cell_type": "code",
   "execution_count": 6,
   "id": "5d52b40e",
   "metadata": {},
   "outputs": [],
   "source": [
    "req_cols_waste = ['MEAL CODE', 'INGREDIENT CODE', 'WASTE-NAV', 'WASTE-FIN', 'WASTE-USE']"
   ]
  },
  {
   "cell_type": "markdown",
   "id": "8ddb5f6a",
   "metadata": {},
   "source": [
    "Active recipes data"
   ]
  },
  {
   "cell_type": "code",
   "execution_count": 7,
   "id": "0433ff85",
   "metadata": {},
   "outputs": [],
   "source": [
    "req_cols_act_rec = ['Artikel']"
   ]
  },
  {
   "cell_type": "markdown",
   "id": "4aee06de",
   "metadata": {},
   "source": [
    "### Data loading & initial validation ###"
   ]
  },
  {
   "cell_type": "markdown",
   "id": "13d44669",
   "metadata": {},
   "source": [
    "#### BOM ####\n"
   ]
  },
  {
   "cell_type": "code",
   "execution_count": 8,
   "id": "ca645ffd",
   "metadata": {},
   "outputs": [],
   "source": [
    "bom_data_raw = pd.read_excel(bom_name, sheet_name=bom_sheet_name, skiprows=1, header=None, decimal=\",\")"
   ]
  },
  {
   "cell_type": "code",
   "execution_count": 9,
   "id": "9283134f",
   "metadata": {},
   "outputs": [
    {
     "name": "stdout",
     "output_type": "stream",
     "text": [
      "BOM ingelezen: 250416 Recepten download NAV 16-4.xlsx || Tabblad: Budget\n"
     ]
    }
   ],
   "source": [
    "print(f'BOM ingelezen: {bom_name} || Tabblad: {bom_sheet_name}')"
   ]
  },
  {
   "cell_type": "markdown",
   "id": "3ed2ba66",
   "metadata": {},
   "source": [
    "#### Prices & weights ####"
   ]
  },
  {
   "cell_type": "code",
   "execution_count": 10,
   "id": "bd377622",
   "metadata": {},
   "outputs": [],
   "source": [
    "price_weight_data_raw = pd.read_excel(price_weight_name, sheet_name=price_weight_sheet_name, header=None)\n",
    "\n",
    "# Drop leading empty rows\n",
    "price_weight_data_trimmed = price_weight_data_raw.loc[~price_weight_data_raw.isnull().all(axis=1)].reset_index(drop=True)\n",
    "\n",
    "# Promote the first non-empty row to header\n",
    "header = price_weight_data_trimmed.iloc[0]\n",
    "price_weight_data = price_weight_data_trimmed[1:]\n",
    "price_weight_data.columns = header\n",
    "price_weight_data = price_weight_data.reset_index(drop=True)\n",
    "\n",
    "# Rename any columns named: \"NaN\"\n",
    "price_weight_data = rename_nan_columns(price_weight_data)\n",
    "\n",
    "# Check for required columns\n",
    "if not all(x in price_weight_data.columns for x in req_cols_price_weight):\n",
    "    print(f'Sommige essentiele kolommen missen in de prijslijst: {set(req_cols_price_weight) - set(price_weight_data.columns)}')\n",
    "\n",
    "# Clean DataFrame values\n",
    "price_weight_data = clean_dataframe(price_weight_data).astype({\"INGREDIENT CODE\": 'string', \"INGREDIENTS\": 'string'}) # fix incorrect type inferences as strings (universally applicable)"
   ]
  },
  {
   "cell_type": "code",
   "execution_count": 11,
   "id": "9c191e41",
   "metadata": {},
   "outputs": [
    {
     "name": "stdout",
     "output_type": "stream",
     "text": [
      "Prijs en gewicht lijst ingelezen: Input Price List + Grammage.xlsx || Tabblad: PriceList\n"
     ]
    }
   ],
   "source": [
    "print(f'Prijs en gewicht lijst ingelezen: {price_weight_name} || Tabblad: {price_weight_sheet_name}')"
   ]
  },
  {
   "cell_type": "markdown",
   "id": "02738e79",
   "metadata": {},
   "source": [
    "#### Waste ####"
   ]
  },
  {
   "cell_type": "code",
   "execution_count": 12,
   "id": "3c448946",
   "metadata": {},
   "outputs": [],
   "source": [
    "waste_data_raw = pd.read_excel(waste_name, sheet_name=waste_sheet_name, header=None)\n",
    "\n",
    "# Drop leading empty rows\n",
    "waste_data_trimmed = waste_data_raw.loc[~waste_data_raw.isnull().all(axis=1)].reset_index(drop=True)\n",
    "\n",
    "# Promote the first non-empty row to header\n",
    "header = waste_data_trimmed.iloc[0]\n",
    "waste_data = waste_data_trimmed[1:]\n",
    "waste_data.columns = header\n",
    "df = waste_data.reset_index(drop=True)\n",
    "\n",
    "# Rename any columns named: \"NaN\"\n",
    "waste_data = rename_nan_columns(waste_data)\n",
    "\n",
    "# Check for required columns\n",
    "if not all(x in waste_data.columns for x in req_cols_waste):\n",
    "    print(f'Sommige essentiele kolommen missen in de waste lijst: {set(req_cols_waste) - set(waste_data.columns)}')\n",
    "\n",
    "# Clean DataFrame values\n",
    "waste_data = clean_dataframe(waste_data).astype({'MEAL CODE': 'string', 'INGREDIENT CODE': 'string', 'UNITS': 'string'}) # fix incorrect type inferences as strings (universally applicable)"
   ]
  },
  {
   "cell_type": "markdown",
   "id": "d994ea1e",
   "metadata": {},
   "source": [
    "##### Add unique id column #####"
   ]
  },
  {
   "cell_type": "code",
   "execution_count": 13,
   "id": "b98828d7",
   "metadata": {},
   "outputs": [],
   "source": [
    "waste_data['id'] = waste_data[['MEAL CODE', 'INGREDIENT CODE']].agg('_'.join, axis=1).astype('string')"
   ]
  },
  {
   "cell_type": "code",
   "execution_count": 14,
   "id": "afbf0c31",
   "metadata": {},
   "outputs": [
    {
     "name": "stdout",
     "output_type": "stream",
     "text": [
      "Waste lijst ingelezen: Input Waste Table.xlsx || Tabblad: WASTE\n"
     ]
    }
   ],
   "source": [
    "print(f'Waste lijst ingelezen: {waste_name} || Tabblad: {waste_sheet_name}')"
   ]
  },
  {
   "cell_type": "markdown",
   "id": "ef3610b8",
   "metadata": {},
   "source": [
    "#### Active recipes ####"
   ]
  },
  {
   "cell_type": "code",
   "execution_count": 15,
   "id": "cdd7e4e0",
   "metadata": {},
   "outputs": [],
   "source": [
    "warnings.filterwarnings('ignore', category=UserWarning)\n",
    "\n",
    "active_rec_data_raw = pd.read_excel(active_rec_name, sheet_name=active_rec_sheet, header=None)\n",
    "\n",
    "# Drop leading empty rows\n",
    "active_rec_data_trimmed = active_rec_data_raw.loc[~active_rec_data_raw.isnull().all(axis=1)].reset_index(drop=True)\n",
    "\n",
    "# Promote the first non-empty row to header\n",
    "header = active_rec_data_trimmed.iloc[0]\n",
    "active_rec_data = active_rec_data_trimmed[1:]\n",
    "active_rec_data.columns = header\n",
    "df = active_rec_data.reset_index(drop=True)\n",
    "\n",
    "# Rename any columns named: \"NaN\"\n",
    "active_rec_data = rename_nan_columns(active_rec_data)\n",
    "\n",
    "# Check for required columns\n",
    "if not all(x in active_rec_data.columns for x in req_cols_act_rec):\n",
    "    print(f'Sommige essentiele kolommen missen in de actieve recepten master: {set(req_cols_act_rec) - set(active_rec_data.columns)}')\n",
    "\n",
    "# Clean DataFrame values\n",
    "active_rec_data = clean_dataframe(active_rec_data)"
   ]
  },
  {
   "cell_type": "code",
   "execution_count": 16,
   "id": "e0a585bb",
   "metadata": {},
   "outputs": [
    {
     "name": "stdout",
     "output_type": "stream",
     "text": [
      "Actieve recepten lijst ingelezen: Input Actieve Recepten Master.xlsx || Tabblad: Actief\n"
     ]
    }
   ],
   "source": [
    "print(f'Actieve recepten lijst ingelezen: {active_rec_name} || Tabblad: {active_rec_sheet}')"
   ]
  },
  {
   "cell_type": "markdown",
   "id": "9b876343",
   "metadata": {},
   "source": [
    "## User input ##\n",
    "Get user input on what to do exactly."
   ]
  },
  {
   "cell_type": "markdown",
   "id": "3a42e3ae",
   "metadata": {},
   "source": [
    "### Prices ###"
   ]
  },
  {
   "cell_type": "code",
   "execution_count": 17,
   "id": "4d49c6c2",
   "metadata": {},
   "outputs": [],
   "source": [
    "# price_period = input(f'In welke van de volgende kolommen staan de nieuwe prijzen?\\n{[x for x in price_weight_data.columns]}')\n",
    "price_period = 'PRICE Q2'"
   ]
  },
  {
   "cell_type": "markdown",
   "id": "ea9bc999",
   "metadata": {},
   "source": [
    "### Active recipes ###"
   ]
  },
  {
   "cell_type": "code",
   "execution_count": 18,
   "id": "904664fa",
   "metadata": {},
   "outputs": [],
   "source": [
    "act_rec_period = '2025 Q2'"
   ]
  },
  {
   "cell_type": "markdown",
   "id": "77671d4f",
   "metadata": {},
   "source": [
    "### Data cleaning ###"
   ]
  },
  {
   "cell_type": "markdown",
   "id": "7ec716b9",
   "metadata": {},
   "source": [
    "#### BOM ####"
   ]
  },
  {
   "cell_type": "markdown",
   "id": "c1475201",
   "metadata": {},
   "source": [
    "##### Split data into recipes #####"
   ]
  },
  {
   "cell_type": "code",
   "execution_count": 19,
   "id": "5676ede3",
   "metadata": {},
   "outputs": [],
   "source": [
    "recipes = []\n",
    "\n",
    "for i in range(len(bom_data_raw)):\n",
    "    # a new recipe starts\n",
    "    if bom_data_raw[4][i] == 'Omschrijving':\n",
    "        start_idx = i + 1\n",
    "        recipe_name = bom_data_raw[4][i + 1]\n",
    "        recipe_id = bom_data_raw[3][i + 1]\n",
    "\n",
    "        # the recipe ends\n",
    "        for j in range(i, len(bom_data_raw)):\n",
    "            if bom_data_raw[3][j] == 'Kostenaandeel voor dit artikel':\n",
    "                end_idx = j\n",
    "                recipe_data = bom_data_raw.iloc[(i + 2):j].drop(range(8, 13), axis='columns').reset_index()\n",
    "                recipe_data = recipe_data.rename(columns={0: \"id_nr\", 1: \"nr\", 2: \"Niveau\", 3: \"hf_nr\", 4: \"Omschrijving\", 5: \"Aantal (Basis)\", 6: \"Basiseenheid\", 7: \"Materiaalkosten\"})\n",
    "                recipe_data = recipe_data.astype({\"id_nr\": str, \"nr\": int, \"Niveau\": int, \"hf_nr\": str, \"Omschrijving\": str, \"Aantal (Basis)\": float, \"Basiseenheid\": str, \"Materiaalkosten\": float})\n",
    "                recipe_data.insert(loc=2, column=\"Product Naam\", value=[recipe_name for i in range(len(recipe_data))])\n",
    "                recipes.append(recipe(name=recipe_name, id=recipe_id, data=recipe_data))\n",
    "                i += j\n",
    "                break"
   ]
  },
  {
   "cell_type": "markdown",
   "id": "3c5c6344",
   "metadata": {},
   "source": [
    "##### Drop inactive recipes #####"
   ]
  },
  {
   "cell_type": "code",
   "execution_count": 20,
   "id": "e35b7145",
   "metadata": {},
   "outputs": [],
   "source": [
    "recipes_temp = []\n",
    "for recipe in recipes:\n",
    "    if str(recipe.id) in np.array(active_rec_data[active_rec_data[act_rec_period] == 'Actief']['Artikel']).astype(str):\n",
    "        recipes_temp.append(recipe)\n",
    "\n",
    "recipes = recipes_temp"
   ]
  },
  {
   "cell_type": "markdown",
   "id": "ccfba6c0",
   "metadata": {},
   "source": [
    "### Product master ###\n",
    "Create a product master based on the information in the BOM:\n",
    "- If an item starts with '3' --> **packaging**, else\n",
    "- If an item has a child --> **HF**, else\n",
    "- Item --> **ingredient**"
   ]
  },
  {
   "cell_type": "code",
   "execution_count": 21,
   "id": "4df3d59d",
   "metadata": {},
   "outputs": [],
   "source": [
    "product_master_dict = {}\n",
    "\n",
    "for recipe in recipes:\n",
    "    for i in range(len(recipe.data)):\n",
    "        item_id = recipe.data['hf_nr'][i]\n",
    "\n",
    "        if not item_id in product_master_dict.keys():\n",
    "            if item_id.startswith('3'):\n",
    "                classification = 'Verpakking'\n",
    "            elif not i + 1 == len(recipe.data):\n",
    "                if recipe.data['Niveau'][i + 1] > recipe.data['Niveau'][i]:\n",
    "                    classification = 'Halffabrikaat'\n",
    "                else:\n",
    "                    classification = 'Ingredient'\n",
    "            else:\n",
    "                classification = 'Ingredient'\n",
    "        \n",
    "            product_master_dict[item_id] = [item_id, classification]\n",
    "\n",
    "product_master = pd.DataFrame.from_dict(product_master_dict, orient='index', columns=['Nummer', 'Categorie']).reset_index(drop=True)"
   ]
  },
  {
   "cell_type": "markdown",
   "id": "2a942bbd",
   "metadata": {},
   "source": [
    "##### Split product data by categorie #####\n",
    "Store the ids ('hf_nr') in NumPy arrays for easy and fast checking against later."
   ]
  },
  {
   "cell_type": "code",
   "execution_count": 22,
   "id": "886a8174",
   "metadata": {},
   "outputs": [],
   "source": [
    "product_data_ingredient = np.array(product_master[product_master['Categorie'] == 'Ingredient']['Nummer'])\n",
    "product_data_packaging = np.array(product_master[product_master['Categorie'] == 'Verpakking']['Nummer'])\n",
    "product_data_HF = np.array(product_master[product_master['Categorie'] == 'Halffabrikaat']['Nummer'])"
   ]
  },
  {
   "cell_type": "markdown",
   "id": "a04e0004",
   "metadata": {},
   "source": [
    "## Data validation ##\n",
    "Validating the correctness of the input data."
   ]
  },
  {
   "cell_type": "markdown",
   "id": "71a1a592",
   "metadata": {},
   "source": [
    "### Ingredients ###\n",
    "\n",
    "Check if all ingredients have a new price."
   ]
  },
  {
   "cell_type": "code",
   "execution_count": 23,
   "id": "f40e6402",
   "metadata": {},
   "outputs": [],
   "source": [
    "ing_error_list = []\n",
    "\n",
    "for ing in product_data_ingredient:\n",
    "    subset = price_weight_data[price_weight_data['INGREDIENT CODE'] == ing].reset_index()\n",
    "\n",
    "    if len(subset) == 1:\n",
    "        try:\n",
    "            price = float(subset[price_period].iloc[0])\n",
    "        except ValueError:\n",
    "            ing_error_list.append(f'Kan de prijs voor ingredient: \"{ing}\" niet lezen. Prijs: \"{subset[price_period][0]}\"')\n",
    "    \n",
    "    elif len(subset) == 0:\n",
    "        ing_error_list.append(f'Ingredient \"{ing}\" komt niet voor in de prijslijst')\n",
    "\n",
    "    else:\n",
    "        ing_error_list.append(f'Ingredient \"{ing}\" komt meermaals voor in de prijslijst. Indexen: {subset[\"index\"]}')"
   ]
  },
  {
   "cell_type": "markdown",
   "id": "86c0820a",
   "metadata": {},
   "source": [
    "In case of no errors, force cast data type for price_period if it's not already correct."
   ]
  },
  {
   "cell_type": "code",
   "execution_count": 24,
   "id": "de13520e",
   "metadata": {},
   "outputs": [],
   "source": [
    "if (price_weight_data[price_period].dtype == 'O') and (len(ing_error_list) == 0):\n",
    "    price_weight_data[price_period].astype('float64')"
   ]
  },
  {
   "cell_type": "markdown",
   "id": "e60a105e",
   "metadata": {},
   "source": [
    "### Waste ###\n",
    "Check if all items at level 1 have waste percentages."
   ]
  },
  {
   "cell_type": "code",
   "execution_count": 25,
   "id": "69467521",
   "metadata": {},
   "outputs": [],
   "source": [
    "waste_error_list = []\n",
    "\n",
    "for recipe in recipes:\n",
    "    for i in range(len(recipe.data)):\n",
    "        item_id = recipe.data['hf_nr'][i]\n",
    "        waste_id = f'{recipe.id}_{item_id}'\n",
    "\n",
    "        if recipe.data['Niveau'][i] == 1:\n",
    "            if not item_id in product_data_packaging: # ignore packaging\n",
    "                subset = waste_data[waste_data['id'] == waste_id]\n",
    "\n",
    "                if len(subset) == 1:\n",
    "                    nav = subset['WASTE-NAV'].iloc[0]\n",
    "                    fin = subset['WASTE-FIN'].iloc[0]\n",
    "                    use = subset['WASTE-USE'].iloc[0]\n",
    "                    try:\n",
    "                        waste = float(nav) + float(fin) + float(use)\n",
    "                    except ValueError:\n",
    "                        waste_error_list.append(f'Kan de waste voor level 1 item: \"{item_id}\", voor maaltijd: \"{recipe.id}\" niet lezen. Waste-nav: \"{nav}\", Waste-fin: \"{fin}\", Waste-use: \"{use}\"')\n",
    "\n",
    "                elif len(subset) == 0:\n",
    "                    waste_error_list.append(f'Level 1 item: \"{item_id}\", voor maaltijd: \"{recipe.id}\" komt niet voor in de waste lijst')\n",
    "\n",
    "                else:\n",
    "                    waste_error_list.append(f'Level 1 item: \"{item_id}\", voor maaltijd: \"{recipe.id}\" komt meermaals voor in de waste lijst')"
   ]
  },
  {
   "cell_type": "markdown",
   "id": "88bc3f38",
   "metadata": {},
   "source": [
    "In case of no errors, force cast data types for waste columns if they're not already correct."
   ]
  },
  {
   "cell_type": "code",
   "execution_count": 26,
   "id": "54071627",
   "metadata": {},
   "outputs": [],
   "source": [
    "if (waste_data['WASTE-NAV'].dtype == 'O') and (len(waste_error_list) == 0):\n",
    "    waste_data['WASTE-NAV'].astype('float64')\n",
    "\n",
    "if (waste_data['WASTE-FIN'].dtype == 'O') and (len(waste_error_list) == 0):\n",
    "    waste_data['WASTE-FIN'].astype('float64')\n",
    "\n",
    "if (waste_data['WASTE-USE'].dtype == 'O') and (len(waste_error_list) == 0):\n",
    "    waste_data['WASTE-USE'].astype('float64')"
   ]
  },
  {
   "cell_type": "markdown",
   "id": "143249a0",
   "metadata": {},
   "source": [
    "### Errors feedback ###\n",
    "Give feedback to the user about data validation errors."
   ]
  },
  {
   "cell_type": "code",
   "execution_count": 27,
   "id": "da94da92",
   "metadata": {},
   "outputs": [
    {
     "name": "stdout",
     "output_type": "stream",
     "text": [
      "--------------------------------------------------------------------------------\n",
      "--------------------------------------------------------------------------------\n",
      "Data validatie problemen gevonden:\n",
      "--------------------------------------------------------------------------------\n",
      "--------------------------------------------------------------------------------\n",
      "Ingredienten errors:\n",
      "--------------------------------------------------------------------------------\n",
      "Ingredient \"HF21145\" komt niet voor in de prijslijst\n",
      "--------------------------------------------------------------------------------\n",
      "--------------------------------------------------------------------------------\n",
      "Output error file opgeslagen: errors.xlsx\n",
      "--------------------------------------------------------------------------------\n",
      "--------------------------------------------------------------------------------\n"
     ]
    }
   ],
   "source": [
    "if (len(ing_error_list) == 0) and (len(waste_error_list)) == 0:\n",
    "    print('Data validatie succesvol! Geen errors gevonden')\n",
    "\n",
    "else:\n",
    "    print('-' * 80)\n",
    "    print('-' * 80)\n",
    "    print('Data validatie problemen gevonden:')\n",
    "    print('-' * 80)\n",
    "    print('-' * 80)\n",
    "    \n",
    "    with pd.ExcelWriter(\"errors.xlsx\") as writer:\n",
    "        pd.DataFrame(ing_error_list, columns=['errors']).to_excel(writer, sheet_name=\"Ingredienten errors\")\n",
    "        pd.DataFrame(waste_error_list, columns=['errors']).to_excel(writer, sheet_name=\"Waste errors\")\n",
    "\n",
    "    if len(ing_error_list) != 0:\n",
    "        print('Ingredienten errors:')\n",
    "        print('-' * 80)\n",
    "        for error in ing_error_list:\n",
    "            print(error)\n",
    "    \n",
    "    if len(waste_error_list) != 0:\n",
    "        print('-' * 80)\n",
    "        print('Waste errors:')\n",
    "        print('-' * 80)\n",
    "        for error in waste_error_list:\n",
    "            print(error)\n",
    "    \n",
    "    print('-' * 80)\n",
    "    print('-' * 80)\n",
    "    print('Output error file opgeslagen: errors.xlsx')\n",
    "    print('-' * 80)\n",
    "    print('-' * 80)"
   ]
  },
  {
   "cell_type": "markdown",
   "id": "6ad2a48e",
   "metadata": {},
   "source": [
    "## Modeling ##"
   ]
  },
  {
   "cell_type": "code",
   "execution_count": 28,
   "id": "52ce4627",
   "metadata": {},
   "outputs": [
    {
     "name": "stdout",
     "output_type": "stream",
     "text": [
      "Starten met modeleren\n"
     ]
    }
   ],
   "source": [
    "print('Starten met modeleren')"
   ]
  },
  {
   "cell_type": "markdown",
   "id": "acc49a99",
   "metadata": {},
   "source": [
    "### Add categories ###"
   ]
  },
  {
   "cell_type": "code",
   "execution_count": 29,
   "id": "3d667761",
   "metadata": {},
   "outputs": [],
   "source": [
    "for recipe in recipes:\n",
    "    categories = []\n",
    "\n",
    "    for i in range(len(recipe.data)):\n",
    "        item_id = recipe.data['hf_nr'][i]\n",
    "\n",
    "        if item_id in product_data_ingredient:\n",
    "            categories.append('Ingredient')\n",
    "\n",
    "        elif item_id in product_data_HF:\n",
    "            categories.append('Halffabrikaat')\n",
    "\n",
    "        elif item_id in product_data_packaging:\n",
    "            categories.append('Verpakking')\n",
    "        \n",
    "        else:\n",
    "            categories.append('Ongeclassificeerd')\n",
    "    \n",
    "    recipe.data['Categorie'] = categories"
   ]
  },
  {
   "cell_type": "markdown",
   "id": "619eeed5",
   "metadata": {},
   "source": [
    "### New prices ###\n",
    "From price list for ingredients & gas; 0 for packaging; and empty for HFs."
   ]
  },
  {
   "cell_type": "code",
   "execution_count": 30,
   "id": "286b2317",
   "metadata": {},
   "outputs": [],
   "source": [
    "for recipe in recipes:\n",
    "    new_prices = []\n",
    "\n",
    "    for i in range(len(recipe.data)):\n",
    "        item_id = recipe.data['hf_nr'][i]\n",
    "\n",
    "        if item_id in product_data_ingredient: # ingredients\n",
    "            subset_price_df = price_weight_data[price_weight_data['INGREDIENT CODE'] == item_id]\n",
    "            \n",
    "            if not len(subset_price_df) == 0:\n",
    "                new_price = subset_price_df['PRICE Q2'].iloc[0]\n",
    "            else:\n",
    "                new_price = 'Geen nieuwe prijs'\n",
    "        \n",
    "        elif item_id in product_data_packaging: # packaging\n",
    "            new_price = 0\n",
    "\n",
    "        elif item_id in product_data_HF: # HFs\n",
    "            new_price = np.nan\n",
    "        \n",
    "        else: # unclassified\n",
    "            new_price = 'Geen nieuwe prijs'\n",
    "    \n",
    "        new_prices.append(new_price)\n",
    "        \n",
    "    recipe.data['Nieuwe prijs'] = new_prices"
   ]
  },
  {
   "cell_type": "markdown",
   "id": "94746a70",
   "metadata": {},
   "source": [
    "### Old prices ###\n",
    "Old costs / old quantity for ingredients & gas; 0 for packaging; and empty for HFs."
   ]
  },
  {
   "cell_type": "code",
   "execution_count": 31,
   "id": "bbdf3c75",
   "metadata": {},
   "outputs": [],
   "source": [
    "warnings.filterwarnings('ignore', category=RuntimeWarning)\n",
    "\n",
    "for recipe in recipes:\n",
    "    old_prices = []\n",
    "\n",
    "    for i in range(len(recipe.data)):\n",
    "        item_id = recipe.data['hf_nr'][i]\n",
    "\n",
    "        if item_id in product_data_ingredient: # ingredients\n",
    "            old_price = recipe.data['Materiaalkosten'][i] / recipe.data['Aantal (Basis)'][i]\n",
    "        \n",
    "        elif item_id in product_data_packaging: # packaging\n",
    "            old_price = 0\n",
    "\n",
    "        elif item_id in product_data_HF: # HFs\n",
    "            old_price = None\n",
    "\n",
    "        else: # unclassified\n",
    "            old_price = recipe.data['Materiaalkosten'][i] / recipe.data['Aantal (Basis)'][i]\n",
    "    \n",
    "        old_prices.append(old_price)\n",
    "        \n",
    "    recipe.data['Oude prijs'] = old_prices"
   ]
  },
  {
   "cell_type": "markdown",
   "id": "ac561e9b",
   "metadata": {},
   "source": [
    "### Weight in kg ###\n",
    "Convert items not in kg. Items already in kg stay the same. Packaging goes to 0, regardless of the unit."
   ]
  },
  {
   "cell_type": "code",
   "execution_count": 32,
   "id": "0d10404d",
   "metadata": {},
   "outputs": [],
   "source": [
    "for recipe in recipes:\n",
    "    weights = []\n",
    "\n",
    "    for i in range(len(recipe.data)):\n",
    "        item_id = recipe.data['hf_nr'][i]\n",
    "\n",
    "        if item_id in product_data_packaging: # packaging to 0\n",
    "            weight = 0.0\n",
    "\n",
    "        elif not recipe.data['Basiseenheid'][i] == 'KG':\n",
    "\n",
    "            subset_weight_data = price_weight_data[price_weight_data['INGREDIENT CODE'] == item_id]\n",
    "\n",
    "            if len(subset_weight_data) == 0: # no info about this item\n",
    "                weight = 'Geen conversie info'\n",
    "            \n",
    "            elif len(subset_weight_data) == 1: # new info about this item\n",
    "                weight = subset_weight_data['KG'].iloc[0] * recipe.data['Aantal (Basis)'][i]\n",
    "\n",
    "            else:\n",
    "                weight = 'Dubbele conversie info'\n",
    "        \n",
    "        else:\n",
    "            weight = recipe.data['Aantal (Basis)'][i]\n",
    "\n",
    "        weights.append(weight)\n",
    "\n",
    "    recipe.data['Grammage'] = weights"
   ]
  },
  {
   "cell_type": "markdown",
   "id": "13cfcc3d",
   "metadata": {},
   "source": [
    "### Waste ###\n",
    "For items at level 1: find the waste in the waste data. For all other items, find the parent item at level 1, and take the waste from there."
   ]
  },
  {
   "cell_type": "code",
   "execution_count": 33,
   "id": "04c0f8a2",
   "metadata": {},
   "outputs": [],
   "source": [
    "for recipe in recipes:\n",
    "    waste_nav_col = []\n",
    "    waste_fin_col = []\n",
    "    waste_use_col = []\n",
    "\n",
    "    for i in range(len(recipe.data)):\n",
    "        item_id = recipe.data['hf_nr'][i]\n",
    "\n",
    "        if recipe.data['Niveau'][i] == 1: # waste is only determined at level 1\n",
    "            subset_waste_data = waste_data[waste_data['id'] == f'{recipe.id}_{item_id}']\n",
    "\n",
    "            if len(subset_waste_data) == 0:\n",
    "                # waste_nav = 'Geen waste info'\n",
    "                # waste_fin = 'Geen waste info'\n",
    "                # waste_use = 'Geen waste info'\n",
    "\n",
    "                waste_nav = 0\n",
    "                waste_fin = 0\n",
    "                waste_use = 0\n",
    "\n",
    "            elif len(subset_waste_data) == 1:\n",
    "                waste_nav = subset_waste_data['WASTE-NAV'].iloc[0]\n",
    "                waste_fin = subset_waste_data['WASTE-FIN'].iloc[0]\n",
    "                waste_use = subset_waste_data['WASTE-USE'].iloc[0]\n",
    "\n",
    "            else:\n",
    "                waste_nav = 'Dubbele waste info'\n",
    "                waste_fin = 'Dubbele waste info'\n",
    "                waste_use = 'Dubbele waste info'\n",
    "        \n",
    "        else:\n",
    "            for j in range(i, -1, -1): # loop backwards to find the closest level 1 item\n",
    "                if recipe.data['Niveau'].iloc[j] == 1:\n",
    "\n",
    "                    if recipe.data['hf_nr'].iloc[j] in product_data_HF:\n",
    "                        parent_hf_id = recipe.data[\"hf_nr\"].iloc[j]\n",
    "                        subset_waste_data_parent = waste_data[waste_data['id'] == f'{recipe.id}_{parent_hf_id}']\n",
    "\n",
    "                        if len(subset_waste_data_parent) == 0:\n",
    "                            # waste_nav = 'Geen waste info'\n",
    "                            # waste_fin = 'Geen waste info'\n",
    "                            # waste_use = 'Geen waste info'\n",
    "\n",
    "                            waste_nav = 0\n",
    "                            waste_fin = 0\n",
    "                            waste_use = 0\n",
    "\n",
    "                        elif len(subset_waste_data_parent) == 1:\n",
    "                            waste_nav = subset_waste_data_parent['WASTE-NAV'].iloc[0]\n",
    "                            waste_fin = subset_waste_data_parent['WASTE-FIN'].iloc[0]\n",
    "                            waste_use = subset_waste_data_parent['WASTE-USE'].iloc[0]\n",
    "\n",
    "                        else:\n",
    "                            waste_nav = 'Dubbele waste info'\n",
    "                            waste_fin = 'Dubbele waste info'\n",
    "                            waste_use = 'Dubbele waste info'\n",
    "\n",
    "                    else:\n",
    "                        waste_nav = 'Geen bijbehorend HF'\n",
    "                        waste_fin = 'Geen bijbehorend HF'\n",
    "                        waste_use = 'Geen bijbehorend HF'\n",
    "                    \n",
    "                    break\n",
    "\n",
    "        waste_nav_col.append(waste_nav)\n",
    "        waste_fin_col.append(waste_fin)\n",
    "        waste_use_col.append(waste_use)\n",
    "\n",
    "    recipe.data['Waste NAV'] = waste_nav_col\n",
    "    recipe.data['Waste FIN'] = waste_fin_col\n",
    "    recipe.data['Waste USE'] = waste_use_col"
   ]
  },
  {
   "cell_type": "markdown",
   "id": "26bf0f2f",
   "metadata": {},
   "source": [
    "### Quantities ###\n",
    "Calculate the quantities based on the known waste data."
   ]
  },
  {
   "cell_type": "code",
   "execution_count": 34,
   "id": "6635ee57",
   "metadata": {},
   "outputs": [],
   "source": [
    "for recipe in recipes:\n",
    "    q_no_waste_col = []\n",
    "    q_new_col = []\n",
    "\n",
    "    for i in range(len(recipe.data)):\n",
    "        \n",
    "        try:\n",
    "            q_no_waste = recipe.data['Aantal (Basis)'][i] / (1 + recipe.data['Waste NAV'][i])\n",
    "        except TypeError:\n",
    "            q_no_waste = 'Kan niet berekenen'\n",
    "\n",
    "        try:\n",
    "            q_new = q_no_waste * (1 + recipe.data['Waste USE'][i])\n",
    "        except TypeError:\n",
    "            q_new = 'Kan niet berekenen'\n",
    "\n",
    "        q_no_waste_col.append(q_no_waste)\n",
    "        q_new_col.append(q_new)\n",
    "\n",
    "    recipe.data['Aantal (zonder waste)'] = q_no_waste_col\n",
    "    recipe.data['Aantal (nieuw)'] = q_new_col"
   ]
  },
  {
   "cell_type": "markdown",
   "id": "0bad4d9d",
   "metadata": {},
   "source": [
    "### Costs ###\n",
    "Several costs are calculated: \n",
    "- new p * old q (\"vvp\")\n",
    "- new p * new q (\"materiaalkosten\")\n",
    "\n",
    "Costs are first calculated for the non-HF items, based on row-level info. Afterwards the HF item costs are calculated and inserted based on hierarchical info."
   ]
  },
  {
   "cell_type": "markdown",
   "id": "f6448696",
   "metadata": {},
   "source": [
    "#### Non-HF costs ####"
   ]
  },
  {
   "cell_type": "code",
   "execution_count": 35,
   "id": "473088b6",
   "metadata": {},
   "outputs": [],
   "source": [
    "for recipe in recipes:\n",
    "    newp_oldq_col = []\n",
    "    newp_newq_col = []\n",
    "\n",
    "    for i in range(len(recipe.data)):\n",
    "        item_id = recipe.data['hf_nr'][i]\n",
    "\n",
    "        if (item_id in product_data_ingredient) or (item_id in product_data_packaging):\n",
    "            try:\n",
    "                newp_oldq = recipe.data['Nieuwe prijs'][i] * recipe.data['Aantal (Basis)'][i]\n",
    "                newp_newq = recipe.data['Nieuwe prijs'][i] * recipe.data['Aantal (nieuw)'][i]\n",
    "            \n",
    "            except TypeError: # could use the old price here as well\n",
    "                newp_oldq = 'Kan niet berekenen'\n",
    "                newp_newq = 'Kan niet berekenen'\n",
    "        \n",
    "        elif item_id in product_data_HF:\n",
    "            newp_oldq = None\n",
    "            newp_newq = None\n",
    "        \n",
    "        else:\n",
    "            newp_oldq = 'Ongeclassificeerd item'\n",
    "            newp_newq = 'Ongeclassificeerd item'\n",
    "\n",
    "        newp_oldq_col.append(newp_oldq)\n",
    "        newp_newq_col.append(newp_newq)\n",
    "\n",
    "    recipe.data['Nieuwe vvp'] = newp_oldq_col\n",
    "    recipe.data['Materiaalkosten (nieuw)'] = newp_newq_col"
   ]
  },
  {
   "cell_type": "markdown",
   "id": "d7b80692",
   "metadata": {},
   "source": [
    "#### HF costs ####\n",
    "For an HF the costs are determined based on the costs of the individual ingredients which make up the HF."
   ]
  },
  {
   "cell_type": "code",
   "execution_count": 36,
   "id": "b427a69d",
   "metadata": {},
   "outputs": [],
   "source": [
    "for recipe in recipes:\n",
    "    for i in range(len(recipe.data)):\n",
    "        item_id = recipe.data['hf_nr'][i]\n",
    "\n",
    "        if item_id in product_data_HF:\n",
    "\n",
    "            hf_newp_oldq = 0.0\n",
    "            hf_newp_newq = 0.0\n",
    "            hf_oldp_oldq = 0.0\n",
    "\n",
    "            hf_level = recipe.data['Niveau'][i]\n",
    "            for j in range(i + 1, len(recipe.data)):\n",
    "                if recipe.data['Niveau'][j] > hf_level:\n",
    "\n",
    "                    try:\n",
    "                        if not np.isnan(recipe.data['Nieuwe vvp'][j]):\n",
    "                            hf_newp_oldq += recipe.data['Nieuwe vvp'][j]\n",
    "                    except:\n",
    "                        pass\n",
    "                    \n",
    "                    try:\n",
    "                        if not np.isnan(recipe.data['Materiaalkosten (nieuw)'][j]):\n",
    "                            hf_newp_newq += recipe.data['Materiaalkosten (nieuw)'][j]\n",
    "                    except:\n",
    "                        pass\n",
    "                    \n",
    "                    try:\n",
    "                        if not np.isnan(recipe.data['Materiaalkosten'][j]):\n",
    "                            if not recipe.data['hf_nr'][j] in product_data_HF:\n",
    "                                hf_oldp_oldq += recipe.data['Materiaalkosten'][j]\n",
    "                    except:\n",
    "                        pass\n",
    "                    \n",
    "                else:\n",
    "                    break\n",
    "        \n",
    "            recipe.data.at[i, 'Nieuwe vvp'] = hf_newp_oldq\n",
    "            recipe.data.at[i, 'Materiaalkosten (nieuw)'] = hf_newp_newq\n",
    "            recipe.data.at[i, 'Materiaalkosten HF (berekend)'] = hf_oldp_oldq"
   ]
  },
  {
   "cell_type": "markdown",
   "id": "6fc5f759",
   "metadata": {},
   "source": [
    "### Deltas ###"
   ]
  },
  {
   "cell_type": "code",
   "execution_count": 37,
   "id": "32e5e9ce",
   "metadata": {},
   "outputs": [],
   "source": [
    "for recipe in recipes:\n",
    "    delta_q_col = []\n",
    "    delta_p_col = []\n",
    "    delta_cost_col = []\n",
    "    fin_waste_impact_col = []\n",
    "\n",
    "    for i in range(len(recipe.data)):\n",
    "\n",
    "        try:\n",
    "            delta_q = (recipe.data['Aantal (nieuw)'][i] - recipe.data['Aantal (Basis)'][i]) * recipe.data['Oude prijs'][i]\n",
    "        except TypeError:\n",
    "            delta_q = 'Kan niet berekenen'\n",
    "        \n",
    "        try:\n",
    "            delta_p = (recipe.data['Nieuwe prijs'][i] - recipe.data['Oude prijs'][i]) * recipe.data['Aantal (nieuw)'][i]\n",
    "        except TypeError as e:            \n",
    "            delta_p = 'Kan niet berekenen'\n",
    "        \n",
    "        try:                  \n",
    "            delta_cost = recipe.data['Materiaalkosten (nieuw)'][i] - recipe.data['Materiaalkosten'][i]\n",
    "        except TypeError:\n",
    "            delta_cost = 'Kan niet berekenen'\n",
    "        \n",
    "        try:\n",
    "            fin_waste_impact = recipe.data['Materiaalkosten (nieuw)'][i] - recipe.data['Nieuwe vvp'][i]\n",
    "        except TypeError:\n",
    "            fin_waste_impact = 'Kan niet berekenen'\n",
    "\n",
    "        delta_q_col.append(delta_q)\n",
    "        delta_p_col.append(delta_p)\n",
    "        delta_cost_col.append(delta_cost)\n",
    "        fin_waste_impact_col.append(fin_waste_impact)\n",
    "    \n",
    "    recipe.data['Delta Q'] = delta_q_col\n",
    "    recipe.data['Delta prijs'] = delta_p_col\n",
    "    recipe.data['Delta materiaalkosten'] = delta_cost_col\n",
    "    recipe.data['Delta FIN waste'] = fin_waste_impact_col"
   ]
  },
  {
   "cell_type": "code",
   "execution_count": 38,
   "id": "f37fe2e5",
   "metadata": {},
   "outputs": [
    {
     "name": "stdout",
     "output_type": "stream",
     "text": [
      "Klaar met modeleren\n"
     ]
    }
   ],
   "source": [
    "print('Klaar met modeleren')"
   ]
  },
  {
   "cell_type": "markdown",
   "id": "1ddc9fd5",
   "metadata": {},
   "source": [
    "## Output Excel file ##"
   ]
  },
  {
   "cell_type": "code",
   "execution_count": 39,
   "id": "e18301e7",
   "metadata": {},
   "outputs": [
    {
     "name": "stdout",
     "output_type": "stream",
     "text": [
      "Output file maken\n"
     ]
    }
   ],
   "source": [
    "print('Output file maken')"
   ]
  },
  {
   "cell_type": "markdown",
   "id": "a13be09f",
   "metadata": {},
   "source": [
    "### BOM ###"
   ]
  },
  {
   "cell_type": "code",
   "execution_count": 40,
   "id": "8d566442",
   "metadata": {},
   "outputs": [],
   "source": [
    "frames = []\n",
    "for recipe in recipes:\n",
    "    frames.append(recipe.data)\n",
    "\n",
    "BOM_df = pd.concat(frames)"
   ]
  },
  {
   "cell_type": "markdown",
   "id": "6063cf42",
   "metadata": {},
   "source": [
    "### Excel file formatting ###\n",
    "Change column order and names. Drop a few columns."
   ]
  },
  {
   "cell_type": "code",
   "execution_count": 41,
   "id": "269170dc",
   "metadata": {},
   "outputs": [],
   "source": [
    "# Reorder and drop columns\n",
    "BOM_df = BOM_df[['index', 'id_nr', 'Product Naam', 'nr', 'Niveau', 'hf_nr', 'Omschrijving', 'Aantal (Basis)', 'Basiseenheid', 'Materiaalkosten', 'Categorie', 'Nieuwe prijs', 'Oude prijs',\n",
    "                 'Nieuwe vvp', 'Waste NAV', 'Waste FIN', 'Waste USE', 'Aantal (zonder waste)', 'Aantal (nieuw)', 'Materiaalkosten (nieuw)', 'Delta materiaalkosten', 'Delta Q', \n",
    "                 'Delta prijs', 'Delta FIN waste', 'Grammage']]\n",
    "\n",
    "# Rename columns\n",
    "BOM_df = BOM_df.rename(columns={\"index\": \"Index\",\n",
    "                                'id_nr': 'Meal ID',\n",
    "                                'Product Naam': 'Meal Name',\n",
    "                                'nr': 'Volgnummer',\n",
    "                                'Niveau': 'Level',\n",
    "                                'hf_nr': 'Ingredient ID',\n",
    "                                'Omschrijving': 'Ingredient Name',\n",
    "                                'Aantal (Basis)': 'Aantal (Basis) (#)',\n",
    "                                'Basiseenheid': 'Eenheid (€ / KG-Stuk-Liter-Mtr)',\n",
    "                                'Materiaalkosten': 'Materiaalkosten 1.0 (P BOM + Q BOM) (€)',\n",
    "                                'Categorie': 'Categorie Master',\n",
    "                                'Nieuwe prijs': 'Ingredientprijs p.e. (Actueel) (€)',\n",
    "                                'Oude prijs': 'Ingredientprijs p.e. (BOM - Berekend) (€)',\n",
    "                                'Nieuwe vvp': 'Materiaalkosten 2.0 (P actueel) (€)',\n",
    "                                'Waste NAV': 'Uitval NAV (%)',\n",
    "                                'Waste FIN': 'Uitval FIN (%)',\n",
    "                                'Waste USE': 'Uitval USE (%)',\n",
    "                                'Aantal (zonder waste)': 'Aantal uitval EXL (#)',\n",
    "                                'Aantal (nieuw)': 'Aantal uitval USE (#)',\n",
    "                                'Materiaalkosten (nieuw)': 'Materiaalkosten 3.0 (P actueel + Q Waste update) (€)',\n",
    "                                'Delta materiaalkosten': 'Materiaalkosten (Delta 3.0 vs 1.0) (€)',\n",
    "                                'Delta Q': 'Materiaalkosten (Q-effect 3.0 vs 1.0) (€)',\n",
    "                                'Delta prijs': 'Materiaalkosten (P-effect 3.0 vs 1.0) (€)',\n",
    "                                'Delta FIN waste': 'FIN Waste Impact Waste Update (Delta 3.0 vs 2.0) (€)',\n",
    "                                'Grammage': 'Gewicht (kg)'\n",
    "                                })"
   ]
  },
  {
   "cell_type": "markdown",
   "id": "c82dd870",
   "metadata": {},
   "source": [
    "### Save to Excel ###"
   ]
  },
  {
   "cell_type": "code",
   "execution_count": 42,
   "id": "8e097b36",
   "metadata": {},
   "outputs": [],
   "source": [
    "with pd.ExcelWriter(f\"Output v7 - {price_period[-2:]}.xlsx\") as writer:\n",
    "    BOM_df.to_excel(writer, sheet_name=\"BOM\")"
   ]
  },
  {
   "cell_type": "code",
   "execution_count": null,
   "id": "f0862112",
   "metadata": {},
   "outputs": [
    {
     "data": {
      "text/plain": [
       "''"
      ]
     },
     "execution_count": 370,
     "metadata": {},
     "output_type": "execute_result"
    }
   ],
   "source": [
    "input('Script is klaar!\\n\\nJe kan dit venster sluiten')"
   ]
  }
 ],
 "metadata": {
  "kernelspec": {
   "display_name": "okm_van_loon",
   "language": "python",
   "name": "python3"
  },
  "language_info": {
   "codemirror_mode": {
    "name": "ipython",
    "version": 3
   },
   "file_extension": ".py",
   "mimetype": "text/x-python",
   "name": "python",
   "nbconvert_exporter": "python",
   "pygments_lexer": "ipython3",
   "version": "3.12.9"
  }
 },
 "nbformat": 4,
 "nbformat_minor": 5
}
