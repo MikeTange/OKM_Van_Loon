{
 "cells": [
  {
   "cell_type": "markdown",
   "id": "7ae4b4b9",
   "metadata": {},
   "source": [
    "# OKM Model #"
   ]
  },
  {
   "cell_type": "markdown",
   "id": "6b0bd7bc",
   "metadata": {},
   "source": [
    "## Set-up ##"
   ]
  },
  {
   "cell_type": "markdown",
   "id": "d4209afc",
   "metadata": {},
   "source": [
    "### Imports ###"
   ]
  },
  {
   "cell_type": "code",
   "execution_count": 1,
   "id": "aa3e1467",
   "metadata": {},
   "outputs": [],
   "source": [
    "import pandas as pd\n",
    "import numpy as np"
   ]
  },
  {
   "cell_type": "markdown",
   "id": "209f3584",
   "metadata": {},
   "source": [
    "### Objects ###"
   ]
  },
  {
   "cell_type": "code",
   "execution_count": 2,
   "id": "c0d4eeb1",
   "metadata": {},
   "outputs": [],
   "source": [
    "class recipe:\n",
    "    \"\"\" a recipe \"\"\"\n",
    "\n",
    "    def __init__(self, name : str, id : str, data : pd.DataFrame) -> None:\n",
    "        \"\"\" initialise an instance of recipe\"\"\"\n",
    "        self.name = name\n",
    "        self.id = id\n",
    "        self.data = data\n",
    "\n",
    "    def __str__(self) -> str:\n",
    "        \"\"\" set the string representation of a recipe \"\"\"\n",
    "        return f'{self.id} {self.name}'"
   ]
  },
  {
   "cell_type": "markdown",
   "id": "f2be1efc",
   "metadata": {},
   "source": [
    "## Data preparation ##"
   ]
  },
  {
   "cell_type": "markdown",
   "id": "4aee06de",
   "metadata": {},
   "source": [
    "### Data loading ###"
   ]
  },
  {
   "cell_type": "markdown",
   "id": "13d44669",
   "metadata": {},
   "source": [
    "#### BOM ####\n"
   ]
  },
  {
   "cell_type": "code",
   "execution_count": 3,
   "id": "ca645ffd",
   "metadata": {},
   "outputs": [],
   "source": [
    "bom_data_raw = pd.read_excel(\"recepten.xlsx\", skiprows=1, header=None, decimal=\",\")"
   ]
  },
  {
   "cell_type": "markdown",
   "id": "3ed2ba66",
   "metadata": {},
   "source": [
    "#### Prices & weights ####"
   ]
  },
  {
   "cell_type": "code",
   "execution_count": 13,
   "id": "bd377622",
   "metadata": {},
   "outputs": [],
   "source": [
    "price_weight_data = pd.read_excel(\"Input Price List + Grammage.xlsx\", sheet_name=\"PriceList\", header=0).astype({'INGREDIENT CODE': 'string'})"
   ]
  },
  {
   "cell_type": "markdown",
   "id": "02738e79",
   "metadata": {},
   "source": [
    "#### Waste ####"
   ]
  },
  {
   "cell_type": "code",
   "execution_count": 5,
   "id": "73d1a1dd",
   "metadata": {},
   "outputs": [],
   "source": [
    "waste_data = pd.read_excel(\"Input Waste Table.xlsx\", sheet_name='WASTE', header=0).astype({'MEAL CODE': \"string\", 'INGREDIENT CODE': 'string'})"
   ]
  },
  {
   "cell_type": "markdown",
   "id": "d994ea1e",
   "metadata": {},
   "source": [
    "##### Add unique id column #####"
   ]
  },
  {
   "cell_type": "code",
   "execution_count": 6,
   "id": "b98828d7",
   "metadata": {},
   "outputs": [],
   "source": [
    "waste_data['id'] = waste_data[['MEAL CODE', 'INGREDIENT CODE']].agg('_'.join, axis=1).astype('string')"
   ]
  },
  {
   "cell_type": "markdown",
   "id": "520d02e3",
   "metadata": {},
   "source": [
    "#### Product master ####"
   ]
  },
  {
   "cell_type": "code",
   "execution_count": 7,
   "id": "eeb299e8",
   "metadata": {},
   "outputs": [],
   "source": [
    "product_data = pd.read_excel(\"Input Productmaster.xlsx\", sheet_name='Product')"
   ]
  },
  {
   "cell_type": "markdown",
   "id": "426b5f4d",
   "metadata": {},
   "source": [
    "##### Active recipes #####"
   ]
  },
  {
   "cell_type": "code",
   "execution_count": 8,
   "id": "3627d811",
   "metadata": {},
   "outputs": [],
   "source": [
    "active_rec_data = pd.read_excel(\"Input Productmaster.xlsx\", sheet_name='Actief')"
   ]
  },
  {
   "cell_type": "code",
   "execution_count": 9,
   "id": "258ac23f",
   "metadata": {},
   "outputs": [],
   "source": [
    "active_recipes = [str(x) for x in active_rec_data[active_rec_data['Actief'] == 'Ja']['Artikel']]"
   ]
  },
  {
   "cell_type": "markdown",
   "id": "a18a5077",
   "metadata": {},
   "source": [
    "##### Split product data by categorie #####\n",
    "Store the ids ('hf_nr') in NumPy arrays for easy and fast checking against later."
   ]
  },
  {
   "cell_type": "code",
   "execution_count": 10,
   "id": "e6092976",
   "metadata": {},
   "outputs": [],
   "source": [
    "product_data_ingredient = np.array(product_data[product_data['Categorie'] == 'Ingredient']['Nummer'])\n",
    "product_data_packaging = np.array(product_data[product_data['Categorie'] == 'Verpakking']['Nummer'])\n",
    "product_data_HF = np.array(product_data[product_data['Categorie'] == 'Halffabrikaat']['Nummer'])\n",
    "product_data_gas = np.array(product_data[product_data['Categorie'] == 'Gas']['Nummer'])"
   ]
  },
  {
   "cell_type": "markdown",
   "id": "77671d4f",
   "metadata": {},
   "source": [
    "### Data cleaning ###"
   ]
  },
  {
   "cell_type": "markdown",
   "id": "7ec716b9",
   "metadata": {},
   "source": [
    "#### BOM ####"
   ]
  },
  {
   "cell_type": "markdown",
   "id": "c1475201",
   "metadata": {},
   "source": [
    "##### Split data into recipes #####"
   ]
  },
  {
   "cell_type": "code",
   "execution_count": 11,
   "id": "5676ede3",
   "metadata": {},
   "outputs": [],
   "source": [
    "recipes = []\n",
    "\n",
    "for i in range(len(bom_data_raw)):\n",
    "    # a new recipe starts\n",
    "    if bom_data_raw[4][i] == 'Omschrijving':\n",
    "        start_idx = i + 1\n",
    "        recipe_name = bom_data_raw[4][i + 1]\n",
    "        recipe_id = bom_data_raw[3][i + 1]\n",
    "\n",
    "        # the recipe ends\n",
    "        for j in range(i, len(bom_data_raw)):\n",
    "            if bom_data_raw[3][j] == 'Kostenaandeel voor dit artikel':\n",
    "                end_idx = j\n",
    "                recipe_data = bom_data_raw.iloc[(i + 2):j].drop(range(8, 13), axis='columns').reset_index()\n",
    "                recipe_data = recipe_data.rename(columns={0: \"id_nr\", 1: \"nr\", 2: \"Niveau\", 3: \"hf_nr\", 4: \"Omschrijving\", 5: \"Aantal (Basis)\", 6: \"Basiseenheid\", 7: \"Materiaalkosten\"})\n",
    "                recipe_data = recipe_data.astype({\"id_nr\": str, \"nr\": int, \"Niveau\": int, \"hf_nr\": str, \"Omschrijving\": str, \"Aantal (Basis)\": float, \"Basiseenheid\": str, \"Materiaalkosten\": float})\n",
    "                recipe_data.insert(loc=2, column=\"Product Naam\", value=[recipe_name for i in range(len(recipe_data))])\n",
    "                recipes.append(recipe(name=recipe_name, id=recipe_id, data=recipe_data))\n",
    "                i += j\n",
    "                break"
   ]
  },
  {
   "cell_type": "markdown",
   "id": "f0292801",
   "metadata": {},
   "source": [
    "##### Drop inactive recipes #####\n",
    "Keep this separate for now in case it has to be removed later."
   ]
  },
  {
   "cell_type": "code",
   "execution_count": 12,
   "id": "20718779",
   "metadata": {},
   "outputs": [],
   "source": [
    "recipes_temp = []\n",
    "for recipe in recipes:\n",
    "    if str(recipe.id) in active_recipes:\n",
    "        recipes_temp.append(recipe)\n",
    "\n",
    "recipes = recipes_temp "
   ]
  },
  {
   "cell_type": "markdown",
   "id": "6ad2a48e",
   "metadata": {},
   "source": [
    "## Modeling ##"
   ]
  },
  {
   "cell_type": "markdown",
   "id": "619eeed5",
   "metadata": {},
   "source": [
    "### New prices for ingredients & packaging ###"
   ]
  },
  {
   "cell_type": "code",
   "execution_count": 31,
   "id": "286b2317",
   "metadata": {},
   "outputs": [],
   "source": [
    "for recipe in recipes:\n",
    "    new_prices = []\n",
    "\n",
    "    for i in range(len(recipe.data)):\n",
    "        item_id = recipe.data['hf_nr'][i]\n",
    "\n",
    "        if (item_id in product_data_ingredient) or (item_id in product_data_gas): # ingredients & gas\n",
    "            subset_price_df = price_weight_data[price_weight_data['INGREDIENT CODE'] == item_id]\n",
    "            new_price = subset_price_df['PRICE Q1'].iloc[0]\n",
    "        \n",
    "        elif item_id in product_data_packaging: # packaging\n",
    "            new_price = 0\n",
    "\n",
    "        else: # other - HFs and not found ingredients\n",
    "            new_price = None\n",
    "    \n",
    "        new_prices.append(new_price)\n",
    "        \n",
    "    recipe.data['Nieuwe prijs'] = new_prices"
   ]
  }
 ],
 "metadata": {
  "kernelspec": {
   "display_name": "okm_van_loon",
   "language": "python",
   "name": "python3"
  },
  "language_info": {
   "codemirror_mode": {
    "name": "ipython",
    "version": 3
   },
   "file_extension": ".py",
   "mimetype": "text/x-python",
   "name": "python",
   "nbconvert_exporter": "python",
   "pygments_lexer": "ipython3",
   "version": "3.12.9"
  }
 },
 "nbformat": 4,
 "nbformat_minor": 5
}
